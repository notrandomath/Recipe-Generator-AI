{
  "cells": [
    {
      "cell_type": "markdown",
      "metadata": {
        "id": "view-in-github",
        "colab_type": "text"
      },
      "source": [
        "<a href=\"https://colab.research.google.com/github/notrandomath/Recipe-Generator-AI/blob/main/Food.ipynb\" target=\"_parent\"><img src=\"https://colab.research.google.com/assets/colab-badge.svg\" alt=\"Open In Colab\"/></a>"
      ]
    },
    {
      "cell_type": "markdown",
      "metadata": {
        "id": "oXpKPSx8m8XE"
      },
      "source": [
        "## Based on: [shakespeare generator](https://github.com/trekhleb/machine-learning-experiments/blob/master/experiments/text_generation_shakespeare_rnn/text_generation_shakespeare_rnn.ipynb)"
      ]
    },
    {
      "cell_type": "markdown",
      "metadata": {
        "id": "ttfa40eU9XtZ"
      },
      "source": [
        "# Import Dependencies"
      ]
    },
    {
      "cell_type": "code",
      "execution_count": null,
      "metadata": {
        "colab": {
          "base_uri": "https://localhost:8080/"
        },
        "id": "eBF671U-7KsB",
        "outputId": "5b3b0f9c-1bcc-4567-8256-089ecf72823d"
      },
      "outputs": [
        {
          "output_type": "stream",
          "name": "stdout",
          "text": [
            "Python version: 3.10.12\n",
            "Tensorflow version: 2.15.0\n"
          ]
        }
      ],
      "source": [
        "from google.colab import drive\n",
        "import pandas as pd\n",
        "import tensorflow as tf\n",
        "import matplotlib.pyplot as plt\n",
        "import numpy as np\n",
        "import platform\n",
        "import time\n",
        "import pathlib\n",
        "import os\n",
        "import ast\n",
        "import shutil\n",
        "\n",
        "print('Python version:', platform.python_version())\n",
        "print('Tensorflow version:', tf.__version__)"
      ]
    },
    {
      "cell_type": "markdown",
      "metadata": {
        "id": "c-28xrAD60Oz"
      },
      "source": [
        "# Import Dataset\n"
      ]
    },
    {
      "cell_type": "markdown",
      "metadata": {
        "id": "EKQrSHHYO6pn"
      },
      "source": [
        "change project folder location to google drive (source: https://robertbrucecarter.com/writing/2020/06/setting-your-working-directory-to-google-drive-in-a-colab-notebook/)"
      ]
    },
    {
      "cell_type": "code",
      "execution_count": null,
      "metadata": {
        "id": "S39ZyxxEO_3h"
      },
      "outputs": [],
      "source": [
        "# Set your working directory to a folder in your Google Drive. This way, if your notebook times out,\n",
        "# your files will be saved in your Google Drive!\n",
        "\n",
        "# the base Google Drive directory\n",
        "root_dir = \"/content/drive/MyDrive/\"\n",
        "\n",
        "# choose where you want your project files to be saved\n",
        "project_folder = \"Colab Notebooks/Food/\"\n",
        "\n",
        "def create_and_set_working_directory(project_folder):\n",
        "  # check if your project folder exists. if not, it will be created.\n",
        "  if os.path.isdir(root_dir + project_folder) == False:\n",
        "    os.mkdir(root_dir + project_folder)\n",
        "    print(root_dir + project_folder + ' did not exist but was created.')\n",
        "\n",
        "  # change the OS to use your project folder as the working directory\n",
        "  os.chdir(root_dir + project_folder)\n",
        "\n",
        "create_and_set_working_directory(project_folder)"
      ]
    },
    {
      "cell_type": "markdown",
      "source": [
        "limit the data to first 1024 rows so that training takes a reasonable time"
      ],
      "metadata": {
        "id": "hjROxCV2CY_c"
      }
    },
    {
      "cell_type": "code",
      "execution_count": null,
      "metadata": {
        "colab": {
          "base_uri": "https://localhost:8080/"
        },
        "id": "BXt1oDfja5XJ",
        "outputId": "460f9093-1358-44b4-a7a8-1380c758c02b"
      },
      "outputs": [
        {
          "output_type": "stream",
          "name": "stdout",
          "text": [
            "                                            name      id  minutes  \\\n",
            "0     arriba   baked winter squash mexican style  137739       55   \n",
            "1               a bit different  breakfast pizza   31490       30   \n",
            "2                      all in the kitchen  chili  112140      130   \n",
            "3                             alouette  potatoes   59389       45   \n",
            "4             amish  tomato ketchup  for canning   44061      190   \n",
            "...                                          ...     ...      ...   \n",
            "1019                         1949  spanish  rice  394049       60   \n",
            "1020                    1949 country style steak  221166       20   \n",
            "1021                             1950 s brownies  254267       42   \n",
            "1022                    1950 s hamburger goulash  109232       50   \n",
            "1023                             1950 s meatloaf  275691       85   \n",
            "\n",
            "      contributor_id   submitted  \\\n",
            "0              47892  2005-09-16   \n",
            "1              26278  2002-06-17   \n",
            "2             196586  2005-02-25   \n",
            "3              68585  2003-04-14   \n",
            "4              41706  2002-10-25   \n",
            "...              ...         ...   \n",
            "1019          186979  2009-10-11   \n",
            "1020          208121  2007-04-07   \n",
            "1021          464295  2007-09-20   \n",
            "1022          160974  2005-01-24   \n",
            "1023          326787  2008-01-03   \n",
            "\n",
            "                                                   tags  \\\n",
            "0     ['60-minutes-or-less', 'time-to-make', 'course...   \n",
            "1     ['30-minutes-or-less', 'time-to-make', 'course...   \n",
            "2     ['time-to-make', 'course', 'preparation', 'mai...   \n",
            "3     ['60-minutes-or-less', 'time-to-make', 'course...   \n",
            "4     ['weeknight', 'time-to-make', 'course', 'main-...   \n",
            "...                                                 ...   \n",
            "1019  ['time-to-make', 'preparation', '60-minutes-or...   \n",
            "1020  ['30-minutes-or-less', 'time-to-make', 'course...   \n",
            "1021  ['60-minutes-or-less', 'time-to-make', 'course...   \n",
            "1022  ['60-minutes-or-less', 'time-to-make', 'main-i...   \n",
            "1023  ['time-to-make', 'course', 'main-ingredient', ...   \n",
            "\n",
            "                                         nutrition  n_steps  \\\n",
            "0            [51.5, 0.0, 13.0, 0.0, 2.0, 0.0, 4.0]       11   \n",
            "1        [173.4, 18.0, 0.0, 17.0, 22.0, 35.0, 1.0]        9   \n",
            "2       [269.8, 22.0, 32.0, 48.0, 39.0, 27.0, 5.0]        6   \n",
            "3        [368.1, 17.0, 10.0, 2.0, 14.0, 8.0, 20.0]       11   \n",
            "4        [352.9, 1.0, 337.0, 23.0, 3.0, 0.0, 28.0]        5   \n",
            "...                                            ...      ...   \n",
            "1019   [584.0, 54.0, 15.0, 39.0, 36.0, 73.0, 15.0]       23   \n",
            "1020     [395.1, 37.0, 8.0, 26.0, 74.0, 68.0, 1.0]        7   \n",
            "1021      [159.6, 13.0, 54.0, 5.0, 4.0, 12.0, 6.0]        6   \n",
            "1022   [518.4, 39.0, 29.0, 47.0, 53.0, 48.0, 15.0]       15   \n",
            "1023  [512.6, 24.0, 167.0, 45.0, 68.0, 28.0, 18.0]        8   \n",
            "\n",
            "                                                  steps  \\\n",
            "0     ['make a choice and proceed with recipe', 'dep...   \n",
            "1     ['preheat oven to 425 degrees f', 'press dough...   \n",
            "2     ['brown ground beef in large pot', 'add choppe...   \n",
            "3     ['place potatoes in a large pot of lightly sal...   \n",
            "4     ['mix all ingredients& boil for 2 1 / 2 hours ...   \n",
            "...                                                 ...   \n",
            "1019  ['heat oven to 350 degrees', 'cook rice', 'res...   \n",
            "1020  ['cut steak into serving sizes and dredge with...   \n",
            "1021  ['melt in microwave or in double boiler baking...   \n",
            "1022  ['cook macaroni in boiling salted water until ...   \n",
            "1023  ['in a large mixing bowl , combine ground chuc...   \n",
            "\n",
            "                                            description  \\\n",
            "0     autumn is my favorite time of year to cook! th...   \n",
            "1     this recipe calls for the crust to be prebaked...   \n",
            "2     this modified version of 'mom's' chili was a h...   \n",
            "3     this is a super easy, great tasting, make ahea...   \n",
            "4     my dh's amish mother raised him on this recipe...   \n",
            "...                                                 ...   \n",
            "1019  when life was simpler and few people traveled ...   \n",
            "1020         no canned cream of mushroom soup in sight.   \n",
            "1021  this batter is very thick but bakes up to a yu...   \n",
            "1022  we grew up with this casserole that we called ...   \n",
            "1023  this is my sister-in-law's recipe for meatloaf...   \n",
            "\n",
            "                                            ingredients  n_ingredients  \n",
            "0     ['winter squash', 'mexican seasoning', 'mixed ...              7  \n",
            "1     ['prepared pizza crust', 'sausage patty', 'egg...              6  \n",
            "2     ['ground beef', 'yellow onions', 'diced tomato...             13  \n",
            "3     ['spreadable cheese with garlic and herbs', 'n...             11  \n",
            "4     ['tomato juice', 'apple cider vinegar', 'sugar...              8  \n",
            "...                                                 ...            ...  \n",
            "1019  ['bacon', 'spanish onion', 'green pepper', 'to...              8  \n",
            "1020  ['round steaks', 'seasoned flour', 'butter', '...             11  \n",
            "1021  ['unsweetened chocolate square', 'semisweet ba...              9  \n",
            "1022  ['macaroni', 'tomato paste', 'water', 'baking ...             16  \n",
            "1023  ['ground chuck', 'eggs', 'breadcrumbs', 'ketch...             12  \n",
            "\n",
            "[1024 rows x 12 columns]\n"
          ]
        }
      ],
      "source": [
        "df=pd.read_csv('food_recipes/RAW_recipes.csv')\n",
        "df = df.head(1024)\n",
        "print(df)"
      ]
    },
    {
      "cell_type": "markdown",
      "metadata": {
        "id": "QL2LnRkJ-hTC"
      },
      "source": [
        "# Analyze Dataset"
      ]
    },
    {
      "cell_type": "markdown",
      "source": [
        "convert each entry in a row from the format \"[step 1, step 2, step 3]\" to \"step 1\\nstep 2\\nstep 3\" then combine all rows to one giant string and make the vocab from the string"
      ],
      "metadata": {
        "id": "7w27ZruxCjyb"
      }
    },
    {
      "cell_type": "code",
      "execution_count": null,
      "metadata": {
        "id": "2I4MAVFN_S3V"
      },
      "outputs": [],
      "source": [
        "def convert_to_list(string_representation):\n",
        "    lst = ast.literal_eval(string_representation)\n",
        "    return \"\\n\".join(lst) + '\\n'\n",
        "df['steps'] = df['steps'].apply(lambda x: convert_to_numbered_list(x))"
      ]
    },
    {
      "cell_type": "code",
      "execution_count": null,
      "metadata": {
        "colab": {
          "base_uri": "https://localhost:8080/"
        },
        "id": "jO_KAI_6adZK",
        "outputId": "9a24af7c-2b62-4099-f188-82c587e3ce2c"
      },
      "outputs": [
        {
          "output_type": "stream",
          "name": "stdout",
          "text": [
            "529981\n",
            "make a choice and proceed with recipe\n",
            "depending on size of squash , cut into half or fourths\n",
            "remove seeds\n",
            "for spicy squash , drizzle olive oil or melted butter over each cut squash piece\n",
            "season with mexican seasoning mix ii\n",
            "for sweet squash , drizzle\n",
            "4549 unique words\n",
            "vocab: ['', '\\n', '!', '\"', '\"al', '\"basic\"', '\"basket\"', '\"batter\"', '\"beginner\"', '\"bun\"', '\"buttermilk\"', '\"caramalized\"', '\"cheese\"', '\"chicken\"', '\"chill\"', '\"cinnamon', '\"combine', '\"cooking\"', '\"crusty\"', '\"dances\"', '\"dress', '\"dry\"', '\"dust\"', '\"exactly', '\"eyeballing\"', '\"float\"', '\"flower', '\"flower\"', '\"fudgy\"', '\"give\"', '\"high\"', '\"hold\"in', '\"ice', '\"jiggly\"', '\"ketchup\"', '\"lettuce\"', '\"light\"', '\"little', '\"low\"', '\"mash\"', '\"mc', '\"milk\"', '\"mustard\"', '\"naked\"', '\"noodles\"', '\"one-dish\"', '\"paint\"', '\"petals\"', '\"pounding\"', '\"rest', '\"rough\"', '\"sauce', '\"sauce\"', '\"scoop\"', '\"shirataki\"', '\"shriveled\"', '\"sink\"', '\"slushy\"', '\"soupy\"', '\"special', '\"squeaking\"', '\"start\"', '\"the', '\"thicken\"', '\"v\"', '\"wet', '\"wet\"', '\"whatever', '\"white', '#128830', '#387362', '#4', '$20', '&', \"'bag'\", \"'be\", \"'bed'\", \"'butter'\", \"'chicken'\", \"'fluffiness'\", \"'my\", \"'ol\", '(about', '(bell', '(if', '(ingredient', '(it', '(the', ')', '+', ',', '-', '--', '--adrienne', '--or--', '-18', '-arrange', '-coat', '-cover', '-cut', '-heat', '-if', '-inch', '-inch-thick', '-slice', '-tada-', '-you', '/', '0', '00', '1', '1\"', '1)', '1-1', '1-2', '1-2\"', '1-2t', '1-gallon', '1-inch', '1-pound', '1-quart', '10', '10\"', '10)', '10-', '10-12', '10-14', '10-15', '10-20', '10-inch', '100', '100%', '10:', '10minutes', '10x', '10x20', '10~20', '11', '11)', '110f', '11x17', '11x17-inch', '11x7', '11x8-inch', '12', '12\"', '12)', '12-', '12-15', '12-16', '12-cup', '12-hrs', '12-inch', '12-muffin', '12-ounce', '125', '12x18-inch', '13', '13\"', '13\"x9\"', '13-', '13-15', '13-16', '13-by-9-inch', '13-inch', '130', '13in', '13th', '13x9', '13x9-inch', '13x9x2-inch', '14', '14-15', '140', '148', '14th', '15', '15\"', '15-18', '15-20', '15-25', '15-30', '15-inch', '150%', '15minutes', '15x10-inch', '16', '16-ounce', '160', '160f', '165', '165f', '17', '17\"x10\"', '175', '18', '18-20', '18-24', '18-25', '180c', '19', '19-12', '190-200f', '1:', '1hr', '1ltr', '1st', '1tbsp', '1tsp', '2', '2\"', '2)', '2-', '2-1', '2-3', '2-3mins', '2-4', '2-gallon', '2-inch', '2-inches', '2-pound', '2-quart', '20', '20-22', '20-24', '20-25', '20-30', '20-ounce', '200', '200-220c', '200c', '200f', '20cm', '21', '22', '225f', '227', '23', '24', \"24'\", '25', '25-30', '250', '2:', '2hours', '2nd', '2oz', '2t', '2tbsp', '3', '3\"', '3)', '3-4', '3-5', '3-inch', '3-layer', '3-qt', '3-quart', '30', '30-35', '30-40', '30-45', '30-50', '30-60', '300', '300f', '30mins', '30secs', '32', '32-37', '325', '325f', '35', '35-', '35-40', '35-45', '350', '350-degree', '350-degrees', '350:', '350^f', '350f', '35x45', '36', '365', '375', '375-', '375-400', '375c', '375f', '38', '395', '3:', '3rd', '3t', '3x9-inch', '4', '4\"', '4)', '4-', '4-1', '4-5', '4-6', '4-8', '4-cup', '4-inch', '4-inch-thick', '4-ounce', '4-oz', '4-qt', '4-quart', '40', '40-', '40-45', '40-50', '40-60', '400', '400-degrees', '400f', '41', '425', '425f', '45', '45-50', '45-60', '450', '450f', '45min', '475', '475f', '48', '49', '4:', '4oz', '4th', '5', '5\"', '5)', '5-', '5-10', '5-6', '5-7', '5-8', '5-minute', '5-quart', '50', '50%', '50-', '50-60', '500', '500f', '55', '55-60', '5:', '5min', '5th', '6', '6)', '6-10', '6-7', '6-8', '6-8-inch', '60', '60-90', '65', '6:', '7', '7)', '7-10', '7-8', '7-9', '7-inch', '7-quart', '70-80', '7:', '7up', '7x11', '8', '8\"', '8\"x8\"', '8)', '8-1', '8-10', '8-12', '8-15', '8-9', '8-by-8-inch', '8-inch', '8-ounce', '8-oz', '80', '8:', '8th', '8x8', '8x8-inch', '8x8x2\"', '9', '9\"', '9\"x11\"', '9\"x13\"', '9\"x5\"', \"9'x11'\", '9)', '9-1', '9-10', '9-11', '9-13', '9-cup', '9-inch', '9-inch-round', '9-x13-inch', '90', '90-degree', '913-inch', '98%', '9:', '9in', '9x', '9x12', '9x13', '9x13\"', '9x13-inch', '9x5', '9x5\"', '9x5x2-3', '9x5x3-inch', '9x9', '9x9-inch', ':', ':)', ':-)', ':0', '?', '@', '@350', '[like', ']', ']]', '^^see', '___', 'a', 'a\"lip\"', 'a#21', \"a'sealed'\", 'aahs', 'abit', 'able', 'about', 'above', 'absolutely', 'absorb', 'absorbed', 'accent', 'accompanied', 'accompaniment', 'according', 'accordingly', 'account', 'accumulated', 'ace', 'achieve', 'achieved', 'acid', 'acid-proof', 'acidic', 'acidity', 'across', 'active', 'add', 'add:', 'added', 'adding', 'addition', 'additional', 'additions', 'additions:', 'additons:', 'adds', 'addtion', 'adhere', 'adjust', 'adjusted', 'adjusting', 'adobo', 'advance', 'aelplermagrone', 'afraid', 'after', 'afternoon', 'afterwards', 'again', 'again-', 'against', 'agave', 'ahead', 'aid', 'aioli', 'air', 'air-tight', 'airtight', 'aisle', 'ajar', 'al', 'ale', 'alena', 'alfalfa', 'alfredo', 'all', \"all'elasticy'\", 'all-metal', 'all-purpose', 'allergic', 'allow', 'allowed', 'allowing', 'allows', 'allspice', 'almond', 'almonds', 'almost', 'alone', 'along', 'alongside', 'alot', 'already', 'also', 'alternate', 'alternated', 'alternately', 'alternating', 'alternative', 'alternatively', 'altogether', 'alum', 'aluminum', 'always', 'am', 'amerikaner', 'amish', 'among', 'amount', 'amounts', 'amout:', 'ample', 'an', 'anchovy', 'and', 'angel', 'angle', 'anise', 'annato', 'anniversary', 'another', 'ans', 'anticipate', 'any', 'anymore', 'anything', 'anyway', 'anywhere', 'apart', 'apetite', 'appear', 'appetizer', 'appetizers', 'apple', 'apples', 'applesauce', 'applewood', 'apply', 'appropriate', 'approx', 'approximate', 'approximately', 'approximly', 'apricot', 'apricots', 'aprox', 'arches', 'are', 'are\"dry\"', 'are:', 'area', \"aren't\", 'arm', 'arms', 'aroma', 'around', 'arrange', 'arrives', 'arrowroot', 'artichoke', 'artichokes', 'arugula', 'as', 'asap', 'ascorbic', 'aside', 'asideto', 'asked', 'asparagas', 'asparagus', 'assassin', 'assemble', 'assembled\"cake\"', 'assembling', 'assembly', 'assorted', 'assure', 'at', 'atop', 'attach', 'attached', 'attachment', 'attained', 'attire', 'attractively', 'avacado', 'avacados', 'available', 'avocado', 'avocados', 'avoid', 'away', 'awesome', 'awkward', 'baby', 'bacardi', 'back', 'background', 'bacon', 'bag', 'baggie', 'bags', 'bake', 'bake@', 'baked', 'baked:', \"baker's\", 'bakes', 'baking', 'baking--', 'baking:', 'balance', 'balances', 'ball', 'baller', 'balls', 'balls:', 'balsamic', 'bamboo', 'banana', 'bananas', 'bar', 'barbecue', 'barbeque', 'bare', 'barely', 'barley', 'barry', 'bars', 'base', 'baseball', 'basic', 'basically', 'basil', 'basin', 'basins', 'basmati', 'baste', 'basting', 'batch', 'batches', 'bath', 'batter', 'batter:', 'battered', 'battle', 'bavarian', 'bay', 'bbq', 'be', 'bean', 'bean\"juice\"', 'beans', 'beat', 'beaten', 'beater', 'beaters', 'beating', 'beautiful', 'beautifully', 'because', 'become', 'becomes', 'bed', 'beef', 'been', 'beer', 'beet', 'beets', 'before', 'begin', 'begining', 'beginning', 'begins', 'being', 'bek', 'bell', 'below', 'beneficial', 'benefits', 'berries', 'berry', 'best', 'best-', 'better', 'between', 'bewary', 'bias', 'bibb', 'bicarbinate', 'big', 'biga', 'bigger', 'binding', 'bioavailable', 'bird', 'birds', 'biscotti', 'biscuit', 'biscuits', 'bisquick', 'bit', 'bit:', 'bite', 'bite-size', 'bite-sized', 'bits', 'bits:', 'bitten', 'bitter', 'bitterness', 'bitters', 'black', 'blackberries', 'blackeye', 'blade', 'blades', 'blanc', 'blanch', 'blanched', 'blemished', 'blend', 'blended', 'blender', 'blending', 'blind', 'blob', 'block', 'blocks', 'blond', 'blood', 'blossom', 'blot', 'blue', 'blueberries', 'blueberry', 'board', 'boat', 'boat\"', 'body', 'boil', 'boiled', 'boiler', 'boiling', 'bolognese', 'bon', 'bone', 'boneless', 'bonelss', 'bones', 'boosters', 'border', 'boring', 'borth', 'both', 'bottle', 'bottles', 'bottom', 'bottomed', 'bottoms', 'bought', 'bouillon', 'boullion', 'bouquet', 'bourbon', 'bow', 'bowl', 'bowl&', 'bowl-', 'bowl:', 'bowling', 'bowls', 'box', 'box\"', 'boxed', 'braise', 'bran', 'brandy', 'brave', 'bread', 'bread\"', 'bread-crumb', 'breadcrumb', 'breadcrumb-like', 'breadcrumbs', 'breading', 'breadmachine', 'breadmaker', 'breadsticks', 'break', 'breaking', 'breast', 'breasts', 'brew', 'brick', 'briefly', 'bright', 'brimming', 'bring', 'bringing', 'brisket', 'briskly', 'brittle', 'broccoli', 'broil', 'broiled', 'broiler', 'broke', 'broken', 'broth', 'brother', 'broths', 'brown', 'brownand', 'browned', 'brownie', 'brownies', 'browning', 'browns', 'bruce', 'bruschetta', 'brush', 'brwon', 'bubble', 'bubbles', 'bubbling', 'bubbly', 'buds', 'buffet', 'build', 'buiscuit', 'buiscuits', 'bulgur', 'bulk', 'bullion', 'bump', 'bun', 'bun\"', 'bunch', 'bundt', 'buns', 'burek', 'burger', 'burgers', 'burn', 'burned', 'burner', 'burning', 'burns', 'burrito', 'burritos', 'but', 'butchers', 'butt', 'butter', 'butter&', 'butter-mixture', 'buttercream', 'buttercream:', 'buttered', 'buttered-sides', 'butterfly', 'buttermilk', 'butters', 'butterscotch', 'button', 'buttons', 'buy', 'by', 'by\"trini', 'c', 'cabbage', 'cacao', 'cajun', 'cake', 'cake:', 'caked', 'cakes', 'cakes--', 'cal', 'calamari', 'calamri', 'calcium', 'called', 'calls', 'calorie', 'calories', 'calzones', 'camotes', 'camping', 'can', \"can't\", 'candied', 'candies', 'candy', 'candy-cane', 'canes', 'canned', 'canning', 'canola', 'cans', 'canton', 'capicola', 'caps', 'capsules', 'carafe', 'caramel', 'caramel-like', 'caramelize', 'caramelized', 'caramelizing', 'caramels', 'caraway', 'carb', 'carbohydrate', 'cardamom', 'cardamon', 'cardemon', 'care', 'careful', 'carefully', 'carrot', 'carrots', 'carve', 'carving', 'case', 'cases', 'cashews', 'casings', 'casserole', 'casseroles', 'cast', 'cast-iron', 'catch', 'catfish', 'cauliflower', 'cautious', 'cavity', 'cayenne', 'caynne', 'celery', 'celsius', 'center', 'centered', 'centering', 'centers', 'centre', 'ceramic', 'cereal', 'cereals', 'certain', 'chain', 'challah', 'chamber', 'champagne', 'chance', 'change', 'changes', 'charcoal', 'chard', 'charlotte', 'charred', 'check', 'checking', 'cheddar', 'cheers', 'cheese', 'cheeseburger', 'cheesecake', 'cheesecake:', 'cheesecloth', 'cheeses', 'cheez', 'cheezy', 'chef', 'cheffing', 'chekc', 'cherries', 'cherry', 'chesses', 'chestnuts', 'chewy', 'chex', 'chicken', 'chicken:', 'chickens', 'chickette', 'chickpea', 'chickpeas', 'children', 'chile', 'chiles', 'chili', 'chili-ketchup', 'chilies', 'chill', 'chilled', 'chilli', 'chillies', 'chilling', 'chills', 'chinese', 'chip', 'chipotle', 'chips', 'chips:', 'chive', 'chives', 'chocaholic', 'chocolate', 'chocolate-peanut', 'choi', 'choice', 'cholesterol', 'choose', 'chop', 'chopped', 'chopper', 'chopping', 'chops', 'chorizos', 'chosen', 'chow', 'chuck', 'chunk', 'chunks', 'chunky', 'chutney', 'cider', 'cilantro', 'cinammon', 'cinnamon', 'circle', 'circle-', 'circles', 'circular', 'citrus', 'claw', 'claws', 'clean', 'clean-45', 'cleanup', 'clear', 'cleared', 'clearly', 'clinging', 'close', 'closed', 'closely', 'closest', 'cloth', 'cloudy', 'clove', 'cloves', 'club', 'clumps', 'clumpy', 'cm', 'coagulated', 'coals', 'coarse', 'coarsely', 'coat', 'coated', 'coating', 'coax', 'cob', 'cobb', 'cobs', 'cocktail', 'coco', 'cocoa', 'coconut', 'coffee', 'coin', 'coins', 'cola', 'colander', 'colby', 'cold', 'cold:', 'coleslaw', 'collander', 'collapsed', 'collapses', 'collar', 'collards', 'collins', 'color', 'color\"lightens\"', 'colored', 'colorful', 'coloring', 'colors', 'colour', 'coloured', 'combination', 'combinations', 'combinations:', 'combine', 'combined', 'combining', 'combo', 'come', 'comes', 'comfort', 'comfortable', 'coming', 'commonly', 'complement', 'complete', 'completed', 'completely', 'concentrate', 'concentrating', 'concoction', 'condense', 'condensed', 'condi-', 'condiments', 'cone', \"confectioner's\", 'confectioners', \"confectioners'\", 'consistancy', 'consistency', 'consistent', 'consomme', 'constantly', 'consume', 'contain', 'container', 'containers', 'contains', 'contents', 'contine', 'continually', 'continue', 'continues', 'continuing', 'continuously', 'cook', \"cook's\", 'cook:', 'cooked', 'cooker', 'cookie', 'cookies', 'cooking', 'cooking:', 'cooks', 'cooks--you', 'cool', 'cool&', 'cool-whip', 'cooled', 'cooler', 'cooling', 'cools', 'coompletly', 'copy', 'corck', 'core', 'cores', 'coriander', 'cork', 'corkscrew', 'corn', 'cornbread', 'corner', 'corner-to-corner', 'corners', 'cornflake', 'cornflakes', 'cornflour', 'cornmeal', 'cornstarch', 'correct', 'cottage', 'could', 'coulis', 'counter', 'counter-top', 'counterpoint', 'countertop', 'country', 'couple', 'course', 'couscous', 'cover', 'covered', 'covering', 'covers', 'covet', 'coworkers', 'crab', 'crabmeat', 'crack', 'cracked', 'cracker', 'crackers', 'craisins', 'cranberries', 'cranberry', 'crank', 'crannies', 'craving', 'crazy', 'cream', 'cream&', 'cream-cheese', 'creamed', 'creamer', 'creamier', 'creaminess', 'creamy', 'creat', 'create', 'created', 'creations', 'creative', 'crema', 'creme', 'crepes', 'crescent', 'cresents', 'cretons', 'crimp', 'crisco', 'crisp', 'crisp-tender', 'crisped', 'crisping', 'crispy', 'criss-cross-pattern', 'crisscross', 'crock', 'crockpot', 'crockpot:', 'crocks', 'croissants', 'cross-ways', 'crosshatch', 'crosswise', 'crostini', 'croutons', 'croutons:', 'crowd', 'crudite', 'cruet', 'crumb', 'crumble', 'crumbled', 'crumbles', 'crumbling', 'crumbly', 'crumbs', 'crumbs&', 'crumple', 'crums', 'crunch', 'crunchy', 'crush', 'crushed', 'crust', 'crust-lined', 'crust:', 'crustaceans', 'crusted', 'crusty', 'crystal', 'crystallized', 'crystals', 'cube', 'cubed', 'cubes', 'cucumber', 'cucumbers', 'cumbs', 'cumin', 'cup', 'cupcake', 'cupcakes', 'cupcales', 'cupfuls', 'cups', 'curaco', 'curl', 'curly', 'currants', 'curry', 'curve', 'curved', 'curving', 'custard', 'cut', 'cut-side', 'cut-up', 'cutlet', 'cutlets', 'cuts', 'cutter', 'cutters', 'cutting', 'cuttings', 'cycle', 'da', 'dab', 'dabs', 'daily', 'damp', 'dante', 'dark', 'darker', 'dash', 'dashes', 'date', 'dates', 'day', 'day\"', 'day:', 'days', 'de', 'debris', 'decadent', 'decalcify', 'decent', 'decide', 'decker', 'declared', 'decorate', 'decorating', 'decorative', 'decoratively', 'decrease', 'deep', 'deep-dish', 'deep-fryer', 'deep-frying', 'deep-sided', 'deeply', 'deer', 'definately', 'definitely', 'deflating', 'defrost', 'defrosted', 'deg', 'deglaze', 'degree', 'degrees', 'deli', 'delicate', 'delicately', 'delicious', 'deluxe', 'dent', 'dente', 'dente\"', 'depending', 'depends', 'depth', 'description', 'design', 'desire', 'desired', 'dessert', 'desserts', 'determine', 'deveined', 'develop', 'dg', 'diagonal', 'diagonally', 'diameter', 'diamond', 'diamonds', 'dice', 'diced', 'dick', 'did', \"didn't\", 'diet', 'dietary', 'difference', 'different', 'difficult', 'diffuser', 'dig', 'digestive', 'dijon', 'dill', 'dilute', 'dimensions', 'diner', 'dinner', 'dip', 'dipped', 'dipping', 'direct', 'directed', 'direction', 'directions', 'directions)', 'directions:', 'directly', 'dirt', 'disappear', 'discard', 'discarding', 'discaring', 'discolor', 'discs', 'dish', 'dishes', 'dishtowel', 'disk', 'disolved', 'dispersed', 'dispose', 'dissolve', 'dissolved', 'dissolves', 'dissolves-the', 'dissolving', 'distribute', 'distributed', 'distributing', 'divide', 'divided', 'dividing', 'divinci', 'do', 'does', \"doesn't\", 'doesnt', 'dog', 'dogs', 'doing', 'dollop', 'dollops', 'dollup', \"don't\", 'done', 'done:', 'doneness', 'doneness:', 'dont', 'door', 'dosage:', 'dose', \"dosen't\", 'dot', 'double', 'double-', 'double-boiler', 'doubled', 'doubles', 'dough', 'dough:', 'doughy', 'down', 'dozen', 'draft', 'draft-free', 'drag', 'drain', 'drained', 'draining', 'draw', 'dream', 'dredge', 'dressing', 'dressing:', 'dressings', 'dribble', 'dried', 'dries', 'drink', 'drip', 'dripmelted', 'dripping', 'drippings', 'drippings:', 'drizle', 'drizzle', 'drizzled', 'drizzling', 'drop', 'dropping', 'drops', 'dry', 'dry-looking', 'du', 'duck', 'dulche', 'dump', 'dumplings', 'during', 'dust', 'dusted', 'dusting', 'dutch', 'duty', 'e', 'each', \"each'panettone'\", 'eagerly', 'ear', 'ears', 'earthenware', 'ease', 'easier', 'easiest', 'easily', 'east', 'easy', 'eat', 'eaten', 'eating', 'eats', 'edge', 'edges', \"edible'cubes'\", 'effect', 'efficient', 'egg', 'egg-coated', 'egg-flour', 'egg:', 'eggplant', 'eggplants', 'eggs', 'eggs&', 'eight', 'eighth', 'either', 'elastic', 'elasticity', 'electric', 'element', 'eleven', 'else', 'elvis', 'empanada', 'emptied', 'empty', 'emulsifies', 'emulsion', 'enchilada', 'enchiladas', 'enclose', 'encompassing', 'end', 'ended', 'ending', 'ends', 'enemy', 'english', 'enhancer', 'enjoy', 'enjoying', 'enjoy~', 'enough', 'ensure', 'entire', 'envelope', 'equal', 'equally', 'equals', 'escape', 'espanola', 'especially', 'espresso', 'essence', 'estimate', 'estimated', 'etc', 'evaporate', 'evaporated', 'evaporated-10-15', 'evaporates', 'even', 'evenly', 'evenly-spaced', 'eventually', 'ever', 'everclear', 'every', 'everybody', 'everyone', 'everything', 'evoo', 'exactly', 'example', 'exceed', 'excellent', 'except', 'exceptionally', 'excess', 'exchanges:', 'experience', 'experiment', 'explain', 'exposed', 'extend', 'extra', 'extract', 'extracts', 'extracts:', 'extraordinary', 'extremely', 'eye', 'eyeing', 'eyes', 'f', 'face', 'faces', 'facing', 'fact', 'fahrenheit', 'fair', 'fairly', 'fall', 'falling', 'falls', 'familiar', 'family', 'fancy', 'fans', 'fantastic', 'far', 'farenheit', 'fashion', 'fast', 'fast-food', 'faster', 'fat', 'fat-free', 'fat:', 'favoite', 'favored', 'favorite', 'favourite', 'feast', 'feed', 'feel', 'fefore', 'fennel', 'fenugreek', 'festive', 'feta', 'fettucine', 'few', 'fiber', 'fibers', 'fiddleheads', 'field', 'fifteen', 'fifths--my', 'fight', 'fil', 'filaments', 'filets', 'fill', 'filled', 'fillet', 'fillets', 'filling', 'filling:', 'fillings', 'fills', 'filter', 'final', 'finally', 'final~30', 'find', 'finding', 'fine', 'finely', 'finer', 'finger', 'fingers', 'finish', 'finished', 'fire', 'fire-resistant', 'firm', 'firm-tender', 'firmly', 'firms', 'first', 'first-', 'fish', 'fish:', 'fit', 'fitted', 'fitting', 'five', 'fixings', 'flake', 'flakes', 'flame', 'flameproof', 'flank', 'flap', 'flapjack', 'flat', 'flat--', 'flats', 'flatten', 'flattened', 'flattening', 'flattish', 'flavor', 'flavored', 'flavorful', 'flavoring', 'flavorings', 'flavors', 'flavour', 'flavoured', 'flavouring', 'flavourings', 'flavours', 'flax', 'flecks', 'flesh', 'flip', 'flipping', 'float', 'floats', 'florets', 'flour', 'flour-butter', 'floured', 'flourless', 'flours', 'flow', 'flower', 'fluff', 'fluffy', 'fluid', 'flute', 'fluting', 'foam', 'foamy', 'focaccia', 'foil', 'foil-lined', 'fold', 'folded', 'folding', 'foldover', 'foldovers', 'folds', 'folks', 'follow', 'followed', 'following', 'following:', 'follows', 'fontina', 'food', 'food-lover', 'foods', 'football', 'for', 'for\"hot\"', 'force', 'forget', 'forgetting', 'forgot', 'fork', 'fork-tender', 'forks', 'form', 'formal', 'formed', 'former', 'forming', 'forms', 'forty', 'forward', 'for~5mins', 'found', 'four', 'fourth', 'fourths', 'fragments', 'fragrance', 'fragrant', 'frame', 'frames', \"frank's\", 'free', 'freeze', 'freezer', 'freezes', 'freezing', 'freezing:', 'freheat', 'french', 'frequently', 'fresh', 'freshly', 'freshness', 'friction', 'fridge', 'fridge-', 'fridge--', 'fried', 'friendly', 'friends', 'fries', 'fries:', 'frige', 'fring', 'from', 'front', 'frost', 'frost:', 'frosting', 'frosting:', 'froth', 'frothy', 'froze', 'frozen', 'fruit', 'fruit:', 'fruits', 'fry', 'fryer', 'frying', 'frypan', 'fudge', 'fudgy', 'fufu', 'full', 'fullest', 'fully', 'fun', 'funky', 'funnel', 'further', 'fuss', 'future', 'fyi:', 'g', 'gallon', 'gallons', 'ganache', 'garam', 'gardein', 'garden', 'garlic', 'garlic&', 'garlic-jalapeno', 'garnish', 'garnish:', 'garnished', 'garnishes', 'garnishing', 'gas', 'gather', 'gel-', 'gelatin', 'generous', 'generously', 'gentle', 'gently', 'germ', 'germany', 'get', 'gether', 'gets', 'getting', 'ghee', 'ghosts', 'giblets', 'gibran', 'gift', 'gin', 'ginger', 'gingerale', 'gingerroot', 'gingersnap', 'girl\"', 'give', 'given', 'gives', 'giving', 'gizmo', 'glace', 'glass', 'glasses', 'glaze', 'glaze:', 'glossiness', 'gloves', 'gluten', 'gnocchi', 'gnocchi:', 'go', 'goat', 'goblet', 'goers', 'goes', 'going', 'gold', 'golden', 'golden-brown', 'goldfish', 'golf', 'gone', 'good', 'gooey', 'gordita', 'gorgonzola', 'got', 'gourmet', 'grab', 'grabs', 'graciously', 'gradually', 'graham', 'graham-crackers', 'grahm', 'grain', 'grain:', 'grains', 'grand', 'grandchildren', 'grandmas', 'grandmother', 'granola', 'granualted', 'granulated', 'granules', 'grape', 'grapefruit', 'grapes', 'grasp', 'grate', 'grated', 'gratin', 'gravity', 'gravy', 'gravy:', 'grease', 'greased', 'great', 'greatly', 'greek', 'green', 'greens', 'grenadine', 'griddle', 'grill', 'grilled', 'grilling', 'grilling:', 'grind', 'grinder', 'grinds', 'grip', 'gritty', 'ground', 'grounds', 'grow', 'grown', 'gruyere', 'guacamole', 'guessing', 'guests', 'guilt', 'guinea', 'gumbo', 'gut', 'guzzle', 'habanero', 'habit', 'had', 'hair', 'half', 'half-and-half', 'half-rings', 'halfway', 'halibut', 'hallow', 'halt', 'halve', 'halves', 'ham', 'hambone', 'hamburg', 'hamburger', 'hamburgers', 'han', 'hand', 'hand-', 'hand-held', 'handful', 'handfuls', 'handle', 'handled', 'hands', 'hands--size', 'handy', 'hang', 'hanging', 'happy', 'hard', 'harden', 'has', 'hash', 'hate', 'have', 'havem', \"haven't\", 'having', 'hawaiian', 'hazelnuts', 'he', 'head', 'heads', 'health', 'healthy', 'heap', 'heaping', 'heaps', 'heart', 'hearts', 'hearty', 'heat', 'heat&', 'heated', 'heating', 'heatproof', 'heaven', 'heavenly', 'heavier', 'heavily', 'heavy', 'heavy-bottom', 'heavy-duty', 'hedgehogs', 'height', 'help', 'helpful', 'helpings', 'helps', 'hen', 'her', 'herb', 'herbed', 'herbes', 'herbs', 'here', \"here's\", 'heres', 'herman', 'hers', \"hershey's\", 'hidden', 'high', 'high-rising', 'higher', 'highest', 'hints:', 'his', 'hits', 'hock', 'hocks', 'hoisin', 'hold', 'holding', 'holds', 'hole', 'holes', 'holiday', 'holidays', 'hollow', 'hollowed', 'home', 'home-made', 'homogenous', 'honestly', 'honey', \"honey's\", 'hook', 'hooks', 'hope', 'hoped', 'horizontally', 'horseradish', 'hot', 'hot::', 'hour', 'hours', 'house', 'how', 'however', 'hp', 'hr', 'hrs', 'hubby', 'hulled', 'humidity', 'hunger', 'hurry', 'husband', 'hydrate', 'i', \"i'll\", \"i'm\", \"i've\", 'i`ve', 'icbnb', 'ice', 'ice--skip', 'ice-cubes', 'iceburg', 'iced', 'icing', 'icing:', 'idea', 'idea:', 'ideal', 'if', 'ii', 'immediate', 'immediately', 'immersion', 'impatient', 'important', 'impossible', 'in', \"in'em\", \"in's\", 'inch', 'inches', 'include', 'include:', 'includes', 'including', 'incorporate', 'incorporated', 'incorporating', 'increase', 'incredibly', 'increments', 'increrase', 'indefinitely', 'indentation', 'indentations', 'index', 'indirect', 'individual', 'individually', 'info', 'infused', 'ingredence', 'ingrediants', 'ingredients', 'ingredients&', 'ingredients-', 'ingredients:', 'initial', 'ink', 'ins:', 'insert', 'inserted', 'inserting', 'inside', 'insides', 'instant', 'instant-read', 'instead', 'instructions', 'instructions:', 'intact', 'intended', 'intensify', 'interesting', 'interior', 'internal', 'internally', 'intervals', 'into', 'invert', 'inverting', 'involved', 'ir', 'iron', 'is', 'island', \"isn't\", 'it', \"it's\", \"it's'stickiness'\", 'italian', 'italians', 'items', 'its', 'itself', 'jack', 'jalapeno', 'jalapenos', 'jalapeo', 'jalepeno', 'jalepenos', 'jam', 'jam:', 'jammy', 'jar', 'jars', 'jasmine', 'jazz', 'jellies', 'jello', 'jelly', 'jellyroll', 'joes', 'join', 'joints', 'judge', 'jug', 'juice', 'juice\"', 'juices', 'juiciness', 'juicy', 'just', 'juswt', 'kahlil', 'kahlua', 'kaiser', 'kale', 'keep', 'keeping', 'keeps', 'kept', 'kernels', 'ketchup', 'kettle', 'kg', \"kibbler's\", 'kick', 'kidney', 'kids', 'kielbasa', 'kind', 'king', 'kitchen', 'kitchenaid', 'kitchens', 'knead', 'kneaded', 'kneading', 'kneading:', 'knife', 'knock', 'know', 'known', 'knuckels', 'kosher', 'kraft', 'kripies', 'krispies', 'l', 'label', 'ladle', 'ladleful', 'ladles-ful', 'lamb', 'lard', 'lardons', 'large', 'larger', 'lasagna', 'last', 'lastly', 'lasts', 'later', 'later-', 'latex', 'latitudinally', 'lavishly', \"lawry's\", 'lay', 'layer', 'layer-cake', 'layer:', 'layered', 'layering', 'layering:', 'layers', 'lb', 'lbs', 'leaf', 'leaks', 'lean', 'learn', 'least', 'leave', 'leaves', 'leaving', 'leavy', 'leche', 'leek', 'leeks', 'left', 'leftover', 'leftovers', 'leftovers:', 'leg', 'legs', 'lemon', 'lemon-dilled', 'lemon-pepper', 'lemonade', 'lemongrass', 'length', 'lengths', 'lengthwise', 'lenthwise', 'lentils', 'less', 'let', 'letter', 'letting', 'lettuce', 'lettuce-lined', 'level', 'lg', 'liberally', 'license', 'licorice', 'lid', 'lidded', 'lids', 'lie', 'life', 'lift', 'light', 'light&', 'light-about', 'light-brown', 'lightly', 'lightly-floured', 'like', 'likely', 'likes', 'liking', 'liking--', 'lillet', 'lime', 'limeade', 'limes', 'limp', 'line', 'lined', 'liners', 'lines', 'linguine', 'lining', 'lip', 'liqueur', 'liquid', 'liquids', 'list', 'listed', 'listen', 'listening', 'litely', 'liter', 'liters', 'litre', 'little', 'lived', 'livers', 'll', 'lo', 'load', 'loaf', 'loaves', 'lock', 'log', 'logs', 'loin', 'loins', 'lol', 'london', 'long', 'long-grain', 'longer', 'longest', 'longways', 'look', 'looked', 'looking', 'looks', 'loose', 'loosely', 'loosen', 'loosening', 'loosens', 'loses', 'lost', 'lot', 'lot-', 'lots', 'louisiana', 'love', 'lovely', 'lover', 'lovers', 'low', 'low-cut', 'low-med', 'low-medium', 'lower', 'lowest', 'lt', 'luck', 'lukewarm', 'lumps', 'lumpy', 'lunch', 'luscious', 'mac', 'macadamia', 'macaroni', 'macaroni&', 'machine', 'made', 'made-1', 'magic', 'main', 'maintain', 'make', 'make:', 'maker', 'makes', 'making', 'male', 'mallet', 'malt', 'mandarin', 'mandoline', 'mango', 'mangoes', 'manner', 'manufacturer', 'manufacturers', 'manufactures', 'many', 'maple', 'marble', 'marbled', 'margarine', 'margarita', 'margerine', 'marinade', 'marinara', 'marinate', 'marinates', 'marination', 'marjoram', 'mark', 'markers', 'market', 'marks', 'marmalade', 'marnier', 'marriage', 'marry', 'marshmallow', 'marshmallows', 'martini', 'masala', 'mash', 'mashed', 'masher', 'mashing', 'mason', 'mass', 'master', 'mat', 'match', 'matza', 'matzah', 'max', 'maximize', 'maximum', 'may', 'maybe', 'mayo', 'mayonaise', 'mayonnaise', \"mccall's\", 'me', 'me:', 'meal', 'meal-like', 'meal:', 'mealy', 'mean', 'means', 'meantime:', 'meanwhile', 'measure', 'measurements', 'measuring', 'meat', 'meat:', 'meatball', 'meatballs', 'meatballs---beat', 'meatloaf', 'meatloaves', 'meats', 'meaty', 'mechanism-', 'med', 'med-high', 'med-large', 'med-low', 'medal', 'mediium', 'medium', 'medium-fine', 'medium-high', 'medium-large', 'medium-low', 'medium-sized', 'medium-well', 'mediumheat', 'meet', 'mein', 'meld', 'melon', 'melt', 'melted', 'melting', 'melts', 'melty', 'membrane', 'membranes', 'mentioned', 'ments', 'mesh', 'meskan', 'mess', 'messiness', 'messy', 'metal', 'method', 'mexi', 'mexican', 'mexicorn', 'mg', 'mickey', 'microcook', 'microwavable', 'microwave', 'microwave-proof', 'microwave-safe', 'microwaveable', 'microwaved:', 'middle', 'midwestern', 'might', 'mild', 'milk', 'milk:', 'mill', 'min', 'mince', 'minced', 'mincemeat', 'mind:', 'mine', 'mingle', 'mini', 'mini-food', 'mini-marshmallows', 'minimal', 'minimize', 'minimum', 'mins', 'mint', 'minuscule', 'minute', 'minutes', 'minutes-', 'minutesr', 'miracle', 'mirin', 'miss', 'mix', 'mix:', 'mixed', 'mixer', 'mixes', 'mixing', 'mixture', 'mixture:', 'mixtures', 'mixute', 'mmm', 'mmmmm', 'mocha', 'moderate', 'moderately', 'moist', 'moisten', 'moistened', 'moistening', 'moistness', 'moisture', 'molasses', 'mold', 'moldable', 'molds', 'molinillo', 'mom', 'mom\"', 'moment', 'mommy', 'monterey', 'month', 'months', 'montreal', 'monzerella', 'mood', 'moose', 'mop', 'more', 'morning', 'morsels', 'mortar', 'most', 'mostly', 'mother-in-law', 'motion', 'mould', 'mound', 'mounds', 'mousse', 'mouth', 'mouths', 'move', 'moving', 'mozarella', 'mozzarella', 'mozzerella', 'much', 'muchaco', 'muesli', 'muffin', 'muffins', 'muffins:', 'mug', 'mugs', 'munch', 'mung', 'murky', 'muscat', 'mush', 'mushroom', 'mushrooms', 'mushrooms:', 'mushy', 'must', 'mustard', 'mustards', 'my', 'myers', 'myself', 'nail', 'nama', 'name', 'narrow', 'nb', 'nb:', 'near', 'nearby', 'nearly', 'neatly', 'necessary', 'neck', 'nectar', 'nectarines', 'need', 'need:', 'needed', 'needed:', 'needs', 'neil', 'nestle', 'neutralize', 'never', 'next', 'nibbling', 'nice', 'nicely', 'nidwalden', 'night', 'nine', 'ninja', 'ninth', 'nlow', 'no', 'no-guilt', 'no-stick', 'noise', 'non', 'non-reactive', 'non-stick', 'nonreactive', 'nonstick', 'nonsweet', 'noodels', 'noodes', 'noodle', 'noodles', 'noodles:', 'nooks', 'nori', 'normal', 'normally', 'nostick', 'not', 'notable', 'notch', 'noticeable', 'now', 'nto', 'nuggets', 'nuke', 'number', 'nut', 'nutmeg', 'nutritional', 'nuts', 'nutty', 'oamc', 'oat', 'oatmeal', 'oatmeal-like', 'oatmeal:', 'oats', 'oblong', 'observation:', 'obsess', 'obtain', 'occasionally', 'occur', 'odors', 'of', 'off', 'off--', 'off-center', 'offer', 'offset', 'often', 'oh--great', 'oil', 'oil--', 'oiled', 'oiling', 'oils', 'oj', 'ok', 'okay', 'okra', 'old', 'old-fashioned', 'olive', 'olives', 'omelets', 'omit', 'omitted', 'on', 'once', 'one', 'one-eight', 'one-eighth', 'one-half', 'one-inch', 'one-third', 'ones', 'onion', 'onions', 'onions&', 'only', 'onto', 'ontop', 'oohs', 'ooze', 'oozing', 'opaque', 'open', 'opened', 'opening', 'opposite', 'opt', 'option:mince', 'option:you', 'optional', 'optional:', 'or', 'or:', 'orange', 'oranges', 'order', 'order:', 'oregano', 'oreos', 'orgeat', 'original', 'originally', 'ortega', 'orzo', 'other', 'otherwise', 'ounce', 'ounces', 'our', 'out', 'out-', 'outer', 'outside', 'outward', 'ouzo', 'oval', 'oven', 'oven-proof', 'ovenproof', 'ovens', 'over', 'over-bake', 'over-mix', 'over-sized', 'overbake', 'overbeat', 'overcook', 'overcooked', 'overdone', 'overheat', 'overlap', 'overlapping', 'overmix', 'overnight', 'overs', 'overwork', 'own', 'oxtail', 'oyster', 'oysters', 'oz', 'p', 'pack', 'pack\"', 'package', 'packaged', 'packages', 'packaging', 'packed', 'packet', 'packets', 'packing', 'paddle', 'paella', 'paint', 'pair', 'pak', 'pale', 'palm', 'pam', 'pan', 'pan&', 'pan-', 'pancake', 'pancakes', 'pancetta', 'panko', 'pans', 'pans-', 'papaya', 'paper', 'paper-lined', 'paper-towel-lined', 'papered', 'paprika', 'parallel', 'parboil', 'parcel', 'parchment', 'parchment-lined', 'parm', 'parmesan', 'parsely', 'parsley', 'parsley:', 'parsnips', 'part', 'part-skim', 'partially', 'partially-baked', 'particles', 'particularly', 'partly', 'parts', 'party', 'pass', 'pasta', 'pastas', 'paste', 'pastery', 'pastry', 'pasty', 'pat', 'patient', 'pattern', 'patties', 'patty', 'pb', 'pea', 'peach', 'peaches', 'peaks', 'peanut', 'peanut&', 'peanuts', 'pears', 'peas', 'peas-size', 'pecan', 'pecans', 'peeking', 'peel', 'peeled', 'peeler', 'peeling', 'peels', 'penetrate', 'penne', 'penne-potatoes', 'people', 'pepper', 'pepper&', 'peppercorns', 'pepperjack', 'peppermint', 'pepperoncini', 'pepperoni', 'peppers', 'peppery', 'per', 'perfect', 'perfectly', 'perforated', 'period', 'periodically', 'permeate', 'personal', 'personally', 'pestle', 'pesto', 'petals', 'petals:', 'philadelphia', 'photo', 'phyllo', 'picante', 'pick', 'picking', 'pickle', 'pickled', 'pickles', 'pickling', 'pickly', 'picture', 'pie', 'pie-shaped', 'piece', 'pieces', 'pierce', 'pierced', 'piercing', 'pies', 'pig', 'pigeon', 'pilaf', 'pile', 'piled', 'piling', 'piloncillo', 'pimemto', 'pimiento', 'pin', 'pinch', 'pinches', 'pinching', 'pine', 'pineapple', 'pink', 'pint', 'pints', 'piping', 'pit', 'pita', 'pitcher', 'pith', 'pitted', 'pizza', 'pkg', 'pks', 'place', 'place\"lids\"', 'place--about', 'placed', 'places', 'placing', 'plain', 'plainly', 'planning', 'plastic', 'plate', 'plates', 'plating', 'platter', 'platter-these', 'play', 'please', 'pleased', 'plenty', 'pleny', 'pliable', 'pluck', 'plum', 'plums', 'plus', 'pockets', 'pod', 'pods', 'point', 'point:', 'pointed', 'points', 'poke', 'poked', 'polaroid', 'polenta', 'polish', 'pool', 'pop', 'popcorn', 'poppadoms', 'popped', 'poppy', 'poppy-seed-mixture', 'popsicle', 'popular', 'population', 'pork', 'porridge', 'portion', 'portions', 'position', 'possibility', 'possible', 'posting', 'pot', 'pot&', 'potato', 'potatoes', 'potatos', 'pouch', 'poultry', 'pound', 'pounds', 'pour', 'poured', 'pouring', 'powder', 'powder-sugar', 'powder:', 'powdered', 'powders', 'powdery', 'power', 'practice', 'prawn', 'prawns', 'pre', 'pre-heat', 'pre-heated', 'pre-mixed', 'pre-sprayed', 'precisely', 'prefer', 'preferably', 'preference', 'preferences', 'preferrably', 'preferred', 'prego', 'preheat', 'preheated', 'preheating', 'preheats', 'prep', 'prepacked', 'preparation', 'prepare', 'prepared', 'preparing', 'preperation', 'prepping', 'present', 'presentation', 'presentation:', 'preserver', 'preserves', 'presoak', 'press', 'pressed', 'pressing', 'pressure', 'pretty', 'pretzels', 'prevent', 'previously', 'prick', 'pricked', 'prior', 'prize', 'proccesor', 'proccessor', 'procedure', 'proceed', 'process', 'processed', 'processor', 'produce', 'produced', 'product', 'promise', 'promptly', 'proof', 'prop', 'prosciutto', 'protein', 'provence', 'provide', 'provides', 'provides:', 'provolone', 'provolone&', 'ps', 'pssst', 'pudding', 'puff', 'puffed', 'puffs', 'puffy', 'pull', 'pulling', 'pulls', 'pulp', 'pulse', 'pulverize', 'pulverized', 'pumpkin', 'punch', 'punchbowl', 'pure', 'pured', 'puree', 'puree:', 'pureed', 'purpose', 'push', 'put', 'putting', 'pyrex', 'qt', 'quadruple', 'quality', 'quantity', 'quark', 'quart', 'quarter', 'quarter-turn', 'quarters', 'quarts', 'quesadilla', 'quiche', 'quick', 'quick-cooking', 'quickly', 'quinoa', 'quite', 'quits', 'rack', 'racks', 'radishes', 'raise', 'raisins', 'ramekin', 'ramekins', 'ramen', 'ran', 'ranch', 'random', 'randomly', 'rapid', 'rapidly', 'rare', 'rare--', 'rasiens', 'rather', 'rather\"frothy\"', 'ravioli', 'raw', 're-brew', 're-fry', 're-set', 'reabsorbed', 'reach', 'reached', 'reaches', 'reaching', 'read', 'reading', 'reads', 'ready', 'reality', 'really', 'reapplying', 'rearranging', 'reasonably', 'recipe', 'recipe:', 'recipes', 'reckon', 'recommend', 'recommended', 'reconstitute', 'reconstituted', 'records', 'rectangle', 'rectangles', 'rectangular', 'red', 'reduce', 'reduced', 'reduces', 'reducing', 'reduction', 'refill', 'refried', 'refrigerate', 'refrigerated', 'refrigerating', 'refrigeration', 'refrigerator', 'registers', 'regular', 'regulate', 'reheat', 'reheated', 'rehydrate', 'relatively', 'release', 'released', 'relish', 'remain', 'remainder', 'remained', 'remainging', 'remaining', 'remains', 'remember', 'remoulade', 'remove', 'removed', 'removing', 'render', 'rendered', 'repeat', 'replace', 'repress', 'require', 'required', 'resealable', 'resemble', 'resembles', 'reserve', 'reserved', 'reserving', 'reset', 'resift', 'resistant', 'respect', 'rest', 'restaurant', 'rested', 'resting', 'rests', 'resturaunts', 'result', 'results', 'retain', 'retiring', 'return', 'returned', 'returning', 'reward', 'rhubarb', 'ribbons', 'ribs', 'rice', 'rice-', 'ricer', 'rich', 'richer', 'richly', 'ricotta', 'right', 'rim', 'rimmed', 'rims', 'rince', 'rind', 'ring', 'rings', 'rinse', 'rinsed-out', 'rinsing', 'ripe', 'ripple', 'rise', 'risen', 'rises', 'rising', 'rising:', 'risotto', 'ritz', 'roast', \"roast's\", 'roasted', 'roaster', 'roasting', 'rock', 'rocks', 'roll', 'rolled', 'rolling', 'rolls', 'rolls:', 'romaine', 'romano', 'room', 'root', 'rope', 'rose', 'rosemary', 'rotate', 'rotating', 'rotel', 'rotisserie', 'rough', 'roughly', 'round', 'rounded', 'rounds', 'roux', 'roux:', 'rows', 'rub', 'rubber', 'rubbery', 'rubbing', 'ruined', 'rum', 'run', 'running', 'runny', 'runs', 'rushed', 'rye', 's', 's&', 'safe', 'saffron', 'sage', 'said', 'sak', 'sake', 'salad', 'salad\"', 'salad:', 'salads', 'salami', 'salmon', 'salmon:', 'salmonella', 'salsa', 'salt', 'salt&', 'salt-restricted', 'salt:', 'saltand', 'salted', 'saltiness', 'salty', 'sambal', 'same', 'samosa', 'samosas', 'sampling', 'sandwich', 'sandwiches', 'sangria', 'sara', 'saran', 'sauce', 'sauce#1', 'sauce#2', 'sauce-cooking', 'sauce:', 'saucean', 'saucepan', 'saucepot', 'sauces', 'saucpan', 'saucy', 'sausage', 'sausages', 'saut', 'saute', \"saute'\", 'sauted', 'sautee', 'sauteed', 'sauteeing', 'sauteing', 'sauting', 'save', 'saved', 'savory', 'sawing', 'says', 'scalding', 'scale', 'scallion', 'scallions', 'scant', 'scatter', 'scattered', 'schnapps', 'school', 'scissors', 'scones', 'scoop', 'scorches', 'scorching', 'score', 'scramble', 'scrambled', 'scrape', 'scraper', 'scraping', 'scraps', 'screen', 'scrub', 'scum', 'sea', 'seafood', 'seal', 'sealable', 'sealed', 'sealing', 'seam', 'seams', 'sear', 'seared', 'seas', 'season', 'seasoned', 'seasoning', 'seasonings', 'sec', 'second', 'second-lowest', 'seconds', 'secret', 'section', 'sections', 'secure', 'see', 'seed', 'seeded', 'seeds', 'seem', 'seemed', 'seems', 'seen', 'seep', 'segments', 'select', 'selected', 'self', 'sells', 'semi', 'semi-circles', 'semi-soft', 'semi-sweet', 'separate', 'separated', 'separately', 'seperate', 'serrated', 'serve', 'serve:', 'served', 'serves', 'serving', 'serving:', 'servings', 'sesame', 'set', 'sets', 'setting', 'settings', 'seven', 'several', 'shake', 'shaken', 'shaker', 'shaking', 'shallot', 'shallots', 'shallow', 'shape', 'shaped', 'shapes', 'shaping', 'share', 'sharp', 'sharply', 'shaved', 'she', 'sheet', 'sheets', 'shelf', 'shell', 'shells', 'sherbet', 'sherry', 'shield', 'shift', 'shifts', 'shimmering', 'shiny', 'shoot', 'shoots', 'shopping', 'short', 'shortbread', 'shortcake', 'shortening', 'shortly', 'should', 'show', 'shoyu', 'shred', 'shredded', 'shredding', 'shreddings', 'shrimp', 'shrimps', 'shrink', 'shriveled', 'shriveling', 'shuck', 'shudder', 'side', 'sided', 'sides', 'sieve', 'sift', 'sifted', 'sifting', 'sign', 'signs', 'silicone', 'silks', 'silpat', 'simmer', 'simmered', 'simmering', 'simply', 'since', 'sing', 'single', 'sink', 'sip', 'sit', 'six', 'size', 'sized', 'sizes', 'sizzle', 'sizzling', 'skewer', 'skewers', 'skillet', 'skillet-bake', 'skillett', 'skim', 'skimming', 'skin', 'skinless', 'skinned', 'skins', 'skip', 'skirt', 'slash', 'slashed', 'slashes', 'slaw', 'slice', 'sliced', 'slicer', 'slices', 'slicing', 'slick', 'slide', 'sliding', 'slight', 'slightly', 'slimy', 'slit', 'slits', 'slivered', 'sloppy', 'slotted', 'slow', 'slower', 'slowest', 'slowly', 'slurry', 'slushy', 'small', 'smaller', 'smart', 'smash', 'smear', 'smell', 'smells', 'smile', 'smiling', 'smoke', 'smoked', 'smokies', 'smoking', 'smooth', 'smoothest', 'smoothie', 'smoothly', 'smoothness', 'snacked', 'snakes', 'snap', 'snapping', 'snow', \"snowman's\", 'snugly', 'so', 'soak', 'soaked', 'soaker', 'soaking', 'soaks', 'soda', 'sodium', 'soft', 'softball', 'soften', 'softened', 'soggy', 'solid', 'solids', 'solo', 'some', 'somethimes', 'something', 'sometimes', 'somewhat', 'somewhere', 'son', 'soon', 'sorbet', 'sorghum', 'sort', 'sorts', 'sound', 'sounds', 'soup', 'soup--add', 'soup:', 'soups', 'soupy', 'sour', 'sourdough', 'south', 'southern', 'southwest', 'soy', 'soya', 'space', 'spaces', 'spacing', 'spaghetti', 'spare', 'spatula', 'spears', 'speed', 'spice', 'spices', 'spices-', 'spices:', 'spicy', 'spill', 'spin', 'spinach', 'spinkle', 'spiral', 'spit', 'splash', 'splatter', 'splattering', 'splatters', 'splenda', 'split', 'spoke', 'sponge', 'sponge:', 'spoon', 'spooned', 'spoonful', 'spoonfuls', 'spooning', 'spoons', 'spot', 'spots', 'spotted', 'spray', 'sprayed', 'spraying', 'spread', 'spread\"alouette\"', 'spread:', 'spreadable', 'spreading', 'sprig', 'sprigs', 'spring', 'spring-form', 'springform', 'springs', 'springsteen', 'sprinkle', 'sprinkled', 'sprinkles', 'sprinkling', 'sprouts', 'spuds', 'sputtering', 'square', 'squares', 'squash', 'squeeze', 'squeezing', 'squirt', 'squish', 'squoosh', 'stab', 'stack', 'stage', 'stainless', 'stalks\"', 'stamp', 'stand', 'stand-in', 'standing', 'star', 'starch', 'staring', 'start', 'started', 'starter', 'starting', 'starts', 'stated', 'states', 'stay', 'stays', 'steadily', 'steady', 'steak', 'steaks', 'steam', 'steamed', 'steaming', 'steamy', 'steel', 'steep', 'stem', 'stems', 'step', 'steps', 'sterilised', 'sterilized', 'sterlized', 'stew', 'stewed', 'stick', 'stickier', 'stickiness', 'sticking', 'sticks', 'sticky', 'stickyness', 'stiff', 'stiffen', 'still', 'stilton', 'stir', 'stir-fry', 'stirr', 'stirred', 'stirring', 'stock', 'stock-wise', 'stock:', 'stockpot', 'stocks', 'stone', 'stoneware', 'stop', 'stopping', 'store', 'stored', 'stores', 'storing', 'stove', 'stovetop', 'straight', 'strain', 'strained', 'strainer', 'strands', 'straw', 'strawberries', 'strawberry', 'straws', 'stream', 'strech', 'strength', 'stretch', 'stretching', 'strikes', 'string', 'strings', 'strip', 'strips', 'strokes', 'strong', 'strongly', 'strussel', 'stuck', 'studded', 'stuff', 'stuffed', 'stuffing', 'sturdy', 'style', 'sub', 'subside', 'substance', 'substantially', 'substitute', 'substituted', 'substituting', 'subtle', 'success', 'such', 'sufficiently', 'sugar', 'sugar-butter', 'sugars', 'suggest', 'suggested', 'suggestion', 'suggestions:', 'suitable', 'suited', 'suits', 'sultanas', 'summer', 'sun', \"sun'\", 'sun-dried', 'sunflower', 'sunlight', 'super', 'suran', 'sure', 'surface', 'surfaces', 'surprise', 'surprised', 'surround', 'sushi', 'sweat', 'sweep', 'sweet', 'sweeten', 'sweetened', 'sweetener', 'sweetener:', 'swim', 'swirl', 'swirling', 'swirls', 'swiss', 'switch', 'syrup', 'syrup:', 'syrupy', 't', 'tabasco', 'table', 'tablespoon', 'tablespoonfuls', 'tablespoons', 'tacky', 'taco', 'tacone', 'tacos:', 'tad', 'tahini', 'tail', 'take', 'taken', 'takes', 'taking', 'tall', 'tap', 'tape', 'tapering', 'tapped', 'tart', 'tartar', 'tarter', 'taste', 'tastes', 'tastier', 'tasting', 'tasty', 'tater', 'tatskiki', 'taught', 'tb', 'tbl', 'tbls', 'tbs', 'tbsp', 'tbspfuls', 'tbsps', 'tea', 'tear', 'tearing', 'teaspoon', 'teaspoonful', 'teaspoonfuls', 'teaspoons', 'teaspoonsfuls', 'technically', 'technique', 'teflon', 'tell', 'temp', 'tempeh', 'temperature', 'temperatures', 'temptation', 'ten', 'tenants', 'tend', 'tendency', 'tender', 'tender--do', 'tenderize', 'tenderizing', 'tenderloin', 'tenderloins', 'tenderness', 'tends', 'tent', 'tentacles', 'tentacls', 'tenth', 'tepanade', 'tequila', 'teriyaki', 'terrine', 'test', 'tested', 'tester', 'testing', 'tests', 'tex-mex', 'texture', 'textured', 'than', 'that', \"that's\", 'thaw', 'thawed', 'thawing', 'the', 'the\"alouette\"', 'the\"beet', 'the\"bottom', 'the\"cake\"', 'the\"fifth', 'the\"first', 'the\"tenth', 'their', 'them', 'theme:', 'themselves', 'then', 'there', \"there's\", 'thermometer', 'these', 'they', \"they'll\", \"they're\", 'thick', 'thicken', 'thickened', 'thickening', 'thickens', 'thicker', 'thickest', 'thickly', 'thickness', 'thin', 'thin-edged', 'thing', 'think', 'thinly', 'thinner', 'thinness', 'thins', 'third', 'thirds', 'thirty', 'this', 'thisover', 'thoroughly', 'thorougly', 'those', 'though', 'thought', 'thousand', 'thread', 'threads', 'three', 'three-quarters', 'threw', 'thrilled', 'throat', 'through', 'throughly', 'throughout', 'throught', 'throw', 'thumb', 'thyme', 'tie', 'tight', 'tight-fitting', 'tighten', 'tightened', 'tightening', 'tightly', 'til', 'till', 'time', 'timer', 'times', 'tin', 'tine', 'tines', 'tinfoil', 'tinged', 'tins', 'tint', 'tinted', 'tiny', 'to', \"to'moderate'\", \"to'seal\", 'toast', 'toast:', 'toasted', 'toaster', 'toasting', 'toasts', 'tobasco', 'today', 'toffee', 'tofu', 'tog', 'togeher', 'together', 'together-', 'together:', 'togethr', 'tomato', 'tomato-based', 'tomatoe', 'tomatoes', 'tomatos', 'tongs', 'tongue', 'tons', 'too', 'took', 'tooth', 'toothpick', 'top', 'toped', 'topped', 'topping', 'topping:', 'toppings', 'tops', 'torch', 'torillla', 'torn', 'torte', 'tortellini', 'tortilla', 'tortillas', 'toss', 'tossed', 'tossing', 'tostito', 'tostitos', 'tostones', 'tot', 'total', 'totally', 'totaly', 'tots', 'touch', 'touched', 'touching', 'tough', 'toward', 'towards', 'towel', 'towel-lined', 'towels', 'towles', 'trade', 'traditional', 'traditionally', 'transfer', 'transferred', 'translucency', 'translucent', 'transparent', 'tray', 'trays', 'treat\"', 'triangle', 'triangles', 'triangularly', 'trick', 'tried', 'trifle', 'trim', 'trinity', 'triple', 'triscuit', 'trivet', 'tropical', 'trouble', 'true', 'truly', 'trussing', 'try', \"try--i'll\", 'trying', 'tsp', 'tub', 'tube', 'tuck', 'tucking', 'tumble', 'tuna', 'tunes', 'tupperware', 'turkey', 'turmeric', 'turn', 'turned', 'turned-off', 'turning', 'turnovers', 'turns', 'tvp', 'twa', 'twenty', 'twice', 'twine', 'twist', 'two', 'two-quart', 'two-thirds', 'type', 'types', 'typically', 'un-greased', 'unbaked', 'uncooked', 'uncover', 'uncovered', 'under', 'undercook', 'undercooked', 'underneath', 'underside', 'understand', 'understanding', 'undiluted', 'undissolved', 'undisturbed', 'undrained', 'unfiorm', 'ungreased', 'uniform', 'uniformly', 'universally', 'unless', 'unmelted', 'unnecessary', 'unroll', 'unsalted', 'unsealed', 'unsweetened', 'until', 'unwrap', 'up', 'up\"', 'upon', 'uppermost', 'upright', 'upward', 'upwards', 'use', \"use'old'\", 'use:', 'used', 'useful', 'uses', 'using', 'usual', 'usually', 'utensil', 'vacuum', 'vanilaa', 'vanilla', 'vanilla&', 'variable', 'variant', 'variation:', 'variations:', 'varies', 'varieties', 'variety', 'various', 'vary', 'varying', 'veal', 'veat', 'veg', 'vegan', 'veges', 'vegetable', 'vegetables', 'vegetarian', 'veggie', 'veggies', 'velveeta', 'venison', 'vented', 'veqes', 'vermicelli', 'vermouth', 'versatile', 'version', 'vertically', 'very', 'vessel', 'vigorously', 'vinaigrette', 'vinegar', 'vinegars', 'virgin', 'visible', 'vital', 'vodka', 'voila', 'volume', 'w', 'wafer', 'wafers', 'waffle', 'waffles', 'wafter', 'wafts', 'wah', 'wait', 'waiting', 'walnut', 'walnuts', 'walt', 'want', 'wanted', 'warm', 'warm-ish', 'warmed', 'warmer', 'warming', 'warp', 'was', 'wash', 'watch', 'watched', 'watching', 'water', 'water-', 'wax', 'waxed', 'way', 'ways', 'we', 'wear', 'wearing', 'wedge', 'wedge&', 'wedges', 'weed', 'week', 'weeks', 'weigh', 'welcome', 'well', 'well&', 'well-', 'well-beaten', 'well-coated', 'well-done', 'well-risen', 'were', 'wet', 'whack', 'what', 'whatever', 'wheat', 'wheatgerm', 'wheel', 'when', 'whenever', 'where', 'wherever', 'whether', 'whey', 'which', 'whichever', 'while', 'whip', 'whip-', 'whipped', 'whipping', 'whisk', 'whiskey', 'whisking', 'white', 'whites', 'whiz', 'who', 'whole', 'why', 'wide', 'wide-brimmed', 'wiggle', 'wild', 'will', 'wilt', 'wilted', 'win', 'wince', 'windowpane', 'wine', 'wings', 'wipe', 'wire', 'wire-rack', 'wish', 'with', 'within', 'without', 'wizz', 'wok', \"won't\", 'wonderful', 'wondra', 'wont', 'wood', 'wooden', 'woods', 'worcestershire', 'work', 'working', 'works', 'world', 'worms', 'worries', 'worry', 'worscestershire', 'worth', 'would', 'wow', 'wrap', 'wrapped', 'wrapper', 'wrapping', 'write', 'x', 'x8\"', 'ya', 'yakisoba', 'yam', 'yams', 'years', 'yeast', 'yeast-', 'yeast-water', 'yellow', 'yes', 'yet', 'yield', 'yield:', 'yoghurt', 'yogurt', 'yolk', 'yolks', 'you', \"you'd\", \"you'll\", \"you're\", \"you've\", 'youll', 'young', 'your', 'youre', 'yours', 'yourself', 'yum', 'yumminess', 'yummmy', 'yummy', 'zap', 'zest', 'zests', 'zesty', 'zing', 'zip', 'zip-lock', 'ziploc', 'ziplock', 'zipper', 'zipperbag', 'ziti', 'zucchini', '{salad', '{{warning', '{{warning}}:', '}}:', '~', '~30', '~tasty~']\n"
          ]
        }
      ],
      "source": [
        "all_steps_text = ''.join(df['steps'])\n",
        "# gets length of all the steps in all recipes\n",
        "print(len(all_steps_text))\n",
        "# prints first steps\n",
        "print(all_steps_text[:250])\n",
        "# prints the unique characters in the file\n",
        "vocab = sorted(set(all_steps_text.replace(\"\\n\", \" \\n \").split(sep=\" \")))\n",
        "print(f'{len(vocab)} unique words')\n",
        "print(f'vocab: {vocab}')"
      ]
    },
    {
      "cell_type": "markdown",
      "metadata": {
        "id": "qJh8_DMkfcUk"
      },
      "source": [
        "# Process Dataset"
      ]
    },
    {
      "cell_type": "markdown",
      "metadata": {
        "id": "no-RC4T2fgIN"
      },
      "source": [
        "## Vectorize the Text\n",
        "Before feeding the text to our RNN we need to convert the text from a sequence of characters to a sequence of numbers. To do so we will detect all unique characters in the text, form a vocabulary out of it and replace each character with its index in the vocabulary."
      ]
    },
    {
      "cell_type": "code",
      "execution_count": null,
      "metadata": {
        "colab": {
          "base_uri": "https://localhost:8080/"
        },
        "id": "Z_ukCNk4nbmI",
        "outputId": "188a2c22-91e3-47ae-cc35-0203bd258469"
      },
      "outputs": [
        {
          "output_type": "stream",
          "name": "stdout",
          "text": [
            "{\n",
            "  ''  :   0,\n",
            "  '\\n':   1,\n",
            "  '!' :   2,\n",
            "  '\"' :   3,\n",
            "  '\"al':   4,\n",
            "  '\"basic\"':   5,\n",
            "  '\"basket\"':   6,\n",
            "  '\"batter\"':   7,\n",
            "  '\"beginner\"':   8,\n",
            "  '\"bun\"':   9,\n",
            "  '\"buttermilk\"':  10,\n",
            "  '\"caramalized\"':  11,\n",
            "  '\"cheese\"':  12,\n",
            "  '\"chicken\"':  13,\n",
            "  '\"chill\"':  14,\n",
            "  '\"cinnamon':  15,\n",
            "  '\"combine':  16,\n",
            "  '\"cooking\"':  17,\n",
            "  '\"crusty\"':  18,\n",
            "  '\"dances\"':  19,\n",
            "  ...\n",
            "}\n",
            "['' '\\n' '!' ... '~' '~30' '~tasty~']\n",
            "text_as_int length: 112578\n",
            "(make a choice a)->([2473, 440, 1044, 546, 3176, 4466, 3278, 1, 1391, 2817, 3647, 2793, 3819, 90, 1327])\n"
          ]
        }
      ],
      "source": [
        "# Map characters to their indices in vocabulary.\n",
        "word2index = {word: index for index, word in enumerate(vocab)}\n",
        "\n",
        "print('{')\n",
        "for word, _ in zip(word2index, range(20)):\n",
        "    print('  {:4s}: {:3d},'.format(repr(word), word2index[word]))\n",
        "print('  ...\\n}')\n",
        "\n",
        "# Map character indices to characters from vacabulary.\n",
        "index2char = np.array(vocab)\n",
        "print(index2char)\n",
        "\n",
        "# Convert chars in text to indices (we make a new column for the indices).\n",
        "df['steps_int'] = df['steps'].apply(lambda x: [word2index[word] for word in x.replace(\"\\n\", \" \\n \").split(sep=\" \")])\n",
        "text_as_int = df['steps_int'].explode().reset_index(drop=True).tolist()\n",
        "\n",
        "print(f'text_as_int length: {len(text_as_int)}')\n",
        "print(f'({all_steps_text[:15]})->({text_as_int[:15]})')"
      ]
    },
    {
      "cell_type": "markdown",
      "metadata": {
        "id": "B--pveIpuwT9"
      },
      "source": [
        "# Create training sequences"
      ]
    },
    {
      "cell_type": "code",
      "execution_count": null,
      "metadata": {
        "colab": {
          "base_uri": "https://localhost:8080/"
        },
        "id": "elL6b02AuxhU",
        "outputId": "9cd33290-ad68-4489-9335-a865bfe77529"
      },
      "outputs": [
        {
          "output_type": "stream",
          "name": "stdout",
          "text": [
            "make\n",
            "a\n",
            "choice\n",
            "and\n",
            "proceed\n",
            "make a choice and proceed with recipe \n",
            " depending on size of squash , cut into half or fourths \n",
            " remove seeds \n",
            " for spicy squash , drizzle olive oil or melted butter over each cut squash piece \n",
            " season with mexican seasoning mix ii \n",
            " for sweet squash , drizzle melted honey , butter , grated piloncillo over each cut squash piece \n",
            " season with sweet mexican spice mix \n",
            " bake at 350 degrees , again depending on size , for 40 minutes up to an hour , until a fork can easily pierce the skin \n",
            " be careful not\n",
            "to burn the squash especially if you opt to use sugar or butter \n",
            " if you feel more comfortable , cover the squash with aluminum foil the first half hour , give or take , of baking \n",
            " if desired , season with salt \n",
            "  preheat oven to 425 degrees f \n",
            " press dough into the bottom and sides of a 12 inch pizza pan \n",
            " bake for 5 minutes until set but not browned \n",
            " cut sausage into small pieces \n",
            " whisk eggs and milk in a bowl until frothy \n",
            " spoon sausage over baked crust and sprinkle with\n",
            "cheese \n",
            " pour egg mixture slowly over sausage and cheese \n",
            " s& p to taste \n",
            " bake 15-20 minutes or until eggs are set and crust is brown \n",
            "  brown ground beef in large pot \n",
            " add chopped onions to ground beef when almost brown and sautee until wilted \n",
            " add all other ingredients \n",
            " add kidney beans if you like beans in your chili \n",
            " cook in slow cooker on high for 2-3 hours or 6-8 hours on low \n",
            " serve with cold clean lettuce and shredded cheese \n",
            "  place potatoes in a large pot of lightly salted\n",
            "water and bring to a gentle boil \n",
            " cook until potatoes are just tender \n",
            " drain \n",
            " place potatoes in a large bowl and add all ingredients except the\"alouette\" \n",
            " mix well and transfer to a buttered 8x8 inch glass baking dish with 2 inch sides \n",
            " press the potatoes with a spatula to make top as flat as possible \n",
            " set aside for 2 hours at room temperature \n",
            " preheat oven to 350^f \n",
            " spread\"alouette\" evenly over potatoes and bake 15 minutes \n",
            " divide between plates \n",
            " garnish with finely diced red and yellow bell peppers \n",
            "  mix all\n",
            "ingredients& boil for 2 1 / 2 hours , or until thick \n",
            " pour into jars \n",
            " i use'old' glass ketchup bottles \n",
            " it is not necessary for these to'seal \n",
            " 'my amish mother-in-law has been making this her entire life , and has never used a'sealed' jar for this recipe , and it's always been great ! \n",
            "  combine ingredients in blender \n",
            " cover and blend until smooth \n",
            " sprinkle with ground cinnamon \n",
            " makes about 2 cups \n",
            "  toast the fennel seeds and lightly crush them \n",
            " place all the ingredients in a bowl , stir well\n"
          ]
        }
      ],
      "source": [
        "# # Convert the pandas DataFrame to a tf.data.Dataset\n",
        "sub_text_as_int = df['steps_int'].explode().reset_index(drop=True).tolist()\n",
        "\n",
        "dataset = tf.data.Dataset.from_tensor_slices(sub_text_as_int)\n",
        "\n",
        "for char in dataset.take(5):\n",
        "    print(index2char[char.numpy()])\n",
        "\n",
        "# make sequences\n",
        "sequence_length = 100\n",
        "dataset = dataset.batch(sequence_length+1, drop_remainder=True)\n",
        "\n",
        "for item in dataset.take(5):\n",
        "  print(' '.join(index2char[item.numpy()]))"
      ]
    },
    {
      "cell_type": "markdown",
      "source": [
        "Makes the target the next word so the RNN predicts the next word"
      ],
      "metadata": {
        "id": "DA6zpDbTD0ay"
      }
    },
    {
      "cell_type": "code",
      "execution_count": null,
      "metadata": {
        "colab": {
          "base_uri": "https://localhost:8080/"
        },
        "id": "mw375ZA01tIE",
        "outputId": "97e67920-32b3-4d1b-c589-8c6191fe25f9"
      },
      "outputs": [
        {
          "output_type": "stream",
          "name": "stdout",
          "text": [
            "dataset size: 1114\n",
            "Input sequence size: 100\n",
            "Input sequence size: 100\n",
            "\n",
            "Input: makeachoiceandproceedwithrecipe\n",
            "dependingonsizeofsquash,cutintohalforfourths\n",
            "removeseeds\n",
            "forspicysquash,drizzleoliveoilormeltedbutterovereachcutsquashpiece\n",
            "seasonwithmexicanseasoningmixii\n",
            "forsweetsquash,drizzlemeltedhoney,butter,gratedpiloncilloovereachcutsquashpiece\n",
            "seasonwithsweetmexicanspicemix\n",
            "bakeat350degrees,againdependingonsize,for40minutesuptoanhour,untilaforkcaneasilypiercetheskin\n",
            "becareful\n",
            "Target: achoiceandproceedwithrecipe\n",
            "dependingonsizeofsquash,cutintohalforfourths\n",
            "removeseeds\n",
            "forspicysquash,drizzleoliveoilormeltedbutterovereachcutsquashpiece\n",
            "seasonwithmexicanseasoningmixii\n",
            "forsweetsquash,drizzlemeltedhoney,butter,gratedpiloncilloovereachcutsquashpiece\n",
            "seasonwithsweetmexicanspicemix\n",
            "bakeat350degrees,againdependingonsize,for40minutesuptoanhour,untilaforkcaneasilypiercetheskin\n",
            "becarefulnot\n",
            "Step  0\n",
            "  input: 2473 (make)\n",
            "  expected output: 440 (a)\n",
            "Step  1\n",
            "  input: 440 (a)\n",
            "  expected output: 1044 (choice)\n",
            "Step  2\n",
            "  input: 1044 (choice)\n",
            "  expected output: 546 (and)\n",
            "Step  3\n",
            "  input: 546 (and)\n",
            "  expected output: 3176 (proceed)\n",
            "Step  4\n",
            "  input: 3176 (proceed)\n",
            "  expected output: 4466 (with)\n"
          ]
        }
      ],
      "source": [
        "def split_input_target(chunk):\n",
        "    input_text = chunk[:-1] # input_text = chunk[:, :-1]\n",
        "    target_text = chunk[1:] # target_text = chunk[:, 1:]\n",
        "    return input_text, target_text\n",
        "\n",
        "    # return input_text, target_text\n",
        "\n",
        "dataset = dataset.map(split_input_target)\n",
        "\n",
        "# Dataset size is the same as examples_per_epoch.\n",
        "# But each element of a sequence is now has length of `sequence_length`\n",
        "# and not `sequence_length + 1`.\n",
        "print('dataset size: {}'.format(len(list(dataset.as_numpy_iterator()))))\n",
        "\n",
        "for input_example, target_example in dataset.take(1):\n",
        "    print(f'Input sequence size: {len(input_example.numpy())}')\n",
        "    print(f'Input sequence size: {len(target_example.numpy())}')\n",
        "    print()\n",
        "    print('Input: ' + ''.join(str(index2char[i]) for i in input_example.numpy()))\n",
        "    print('Target: ' + ''.join(str(index2char[i]) for i in target_example.numpy()))\n",
        "\n",
        "for i, (input_idx, target_idx) in enumerate(zip(input_example[:5], target_example[:5])):\n",
        "    print('Step {:2d}'.format(i))\n",
        "    print(f'  input: {input_idx} ({index2char[input_idx]})')\n",
        "    print(f'  expected output: {target_idx} ({index2char[target_idx]})')"
      ]
    },
    {
      "cell_type": "markdown",
      "metadata": {
        "id": "ZV01AZHQBhXq"
      },
      "source": [
        "# Build the Model"
      ]
    },
    {
      "cell_type": "markdown",
      "source": [
        "Makes the RNN (I'm using an LSTM here for the next word predictor)"
      ],
      "metadata": {
        "id": "aS_ZiMF1D7nh"
      }
    },
    {
      "cell_type": "code",
      "execution_count": null,
      "metadata": {
        "colab": {
          "base_uri": "https://localhost:8080/",
          "height": 690
        },
        "id": "FpkICa8JB7Cn",
        "outputId": "52881584-2e53-4000-f41c-9b7ad080e028"
      },
      "outputs": [
        {
          "output_type": "stream",
          "name": "stdout",
          "text": [
            "Model: \"sequential\"\n",
            "_________________________________________________________________\n",
            " Layer (type)                Output Shape              Param #   \n",
            "=================================================================\n",
            " embedding (Embedding)       (64, None, 256)           1164544   \n",
            "                                                                 \n",
            " lstm (LSTM)                 (64, None, 1024)          5246976   \n",
            "                                                                 \n",
            " dense (Dense)               (64, None, 4549)          4662725   \n",
            "                                                                 \n",
            "=================================================================\n",
            "Total params: 11074245 (42.24 MB)\n",
            "Trainable params: 11074245 (42.24 MB)\n",
            "Non-trainable params: 0 (0.00 Byte)\n",
            "_________________________________________________________________\n"
          ]
        },
        {
          "output_type": "execute_result",
          "data": {
            "image/png": "[encoded data removed]",
            "text/plain": [
              "<IPython.core.display.Image object>"
            ]
          },
          "metadata": {},
          "execution_count": 9
        }
      ],
      "source": [
        "# Define the batch size\n",
        "batch_size = 64\n",
        "\n",
        "# Batch the dataset\n",
        "dataset = dataset.batch(batch_size, drop_remainder=True)\n",
        "\n",
        "# Length of the vocabulary in chars.\n",
        "vocab_size = len(vocab)\n",
        "\n",
        "# The embedding dimension.\n",
        "embedding_dim = 256\n",
        "\n",
        "# Number of RNN units.\n",
        "rnn_units = 1024\n",
        "\n",
        "def build_model(vocab_size, embedding_dim, rnn_units, batch_size):\n",
        "    model = tf.keras.models.Sequential()\n",
        "\n",
        "    model.add(tf.keras.layers.Embedding(\n",
        "      input_dim=vocab_size,\n",
        "      output_dim=embedding_dim,\n",
        "      batch_input_shape=[batch_size, None]\n",
        "    ))\n",
        "\n",
        "    model.add(tf.keras.layers.LSTM(\n",
        "      units=rnn_units,\n",
        "      return_sequences=True,\n",
        "      stateful=True,\n",
        "      recurrent_initializer=tf.keras.initializers.GlorotNormal()\n",
        "    ))\n",
        "\n",
        "    model.add(tf.keras.layers.Dense(vocab_size))\n",
        "\n",
        "    return model\n",
        "\n",
        "model = build_model(vocab_size, embedding_dim, rnn_units, batch_size)\n",
        "model.summary()\n",
        "\n",
        "tf.keras.utils.plot_model(\n",
        "    model,\n",
        "    show_shapes=True,\n",
        "    show_layer_names=True,\n",
        ")"
      ]
    },
    {
      "cell_type": "markdown",
      "metadata": {
        "id": "YwnYG5XsFDHa"
      },
      "source": [
        "# *Test* the Model"
      ]
    },
    {
      "cell_type": "code",
      "execution_count": null,
      "metadata": {
        "colab": {
          "base_uri": "https://localhost:8080/"
        },
        "id": "t6AK4rVMFbpj",
        "outputId": "e0a0052b-87d8-4f22-8851-4ffe19444add"
      },
      "outputs": [
        {
          "output_type": "stream",
          "name": "stdout",
          "text": [
            "(64, 100, 4549) # (batch_size, sequence_length, vocab_size)\n"
          ]
        }
      ],
      "source": [
        "for input_example_batch, target_example_batch in dataset.take(1):\n",
        "    example_batch_predictions = model(input_example_batch)\n",
        "    print(example_batch_predictions.shape, \"# (batch_size, sequence_length, vocab_size)\")"
      ]
    },
    {
      "cell_type": "code",
      "execution_count": null,
      "metadata": {
        "colab": {
          "base_uri": "https://localhost:8080/"
        },
        "id": "aNP2KjyweUly",
        "outputId": "453ed0db-fd18-4de7-8409-ab4250da500f"
      },
      "outputs": [
        {
          "output_type": "stream",
          "name": "stdout",
          "text": [
            "Prediction for the 1st letter of the batch 1st sequense:\n",
            "tf.Tensor(\n",
            "[-0.0015065   0.00160686  0.00016674 ... -0.00129838  0.00128885\n",
            "  0.00074766], shape=(4549,), dtype=float32)\n"
          ]
        }
      ],
      "source": [
        "print('Prediction for the 1st letter of the batch 1st sequense:')\n",
        "print(example_batch_predictions[0, 0])"
      ]
    },
    {
      "cell_type": "markdown",
      "metadata": {
        "id": "Dsgzq0cQG_iR"
      },
      "source": [
        "# Train the model"
      ]
    },
    {
      "cell_type": "code",
      "execution_count": null,
      "metadata": {
        "colab": {
          "base_uri": "https://localhost:8080/"
        },
        "id": "gnDqLeBMG_TR",
        "outputId": "de390e23-98ab-4b98-dace-10b99328b82d"
      },
      "outputs": [
        {
          "output_type": "stream",
          "name": "stdout",
          "text": [
            "Prediction shape:  (64, 100, 4549)  # (batch_size, sequence_length, vocab_size)\n",
            "scalar_loss:       8.422959\n"
          ]
        }
      ],
      "source": [
        "# An objective function.\n",
        "# The function is any callable with the signature scalar_loss = fn(y_true, y_pred).\n",
        "def loss(labels, logits):\n",
        "    return tf.keras.losses.sparse_categorical_crossentropy(\n",
        "      y_true=labels,\n",
        "      y_pred=logits,\n",
        "      from_logits=True\n",
        "    )\n",
        "\n",
        "example_batch_loss = loss(target_example_batch, example_batch_predictions)\n",
        "\n",
        "print(\"Prediction shape: \", example_batch_predictions.shape, \" # (batch_size, sequence_length, vocab_size)\")\n",
        "print(\"scalar_loss:      \", example_batch_loss.numpy().mean())\n",
        "\n",
        "adam_optimizer = tf.keras.optimizers.Adam(learning_rate=0.001)\n",
        "model.compile(\n",
        "    optimizer=adam_optimizer,\n",
        "    loss=loss\n",
        ")"
      ]
    },
    {
      "cell_type": "markdown",
      "metadata": {
        "id": "lezVCPeCHTRi"
      },
      "source": [
        "# Configure Checkpoints"
      ]
    },
    {
      "cell_type": "code",
      "execution_count": null,
      "metadata": {
        "id": "2rDyIBVgHZ-K"
      },
      "outputs": [],
      "source": [
        "# Directory where the checkpoints will be saved.\n",
        "checkpoint_dir = 'tmp/checkpoints'\n",
        "# uncomment below to remove any previous checkpoints:\n",
        "# if os.path.exists(checkpoint_dir):\n",
        "        # shutil.rmtree(checkpoint_dir)\n",
        "os.makedirs(checkpoint_dir, exist_ok=True)\n",
        "\n",
        "# Name of the checkpoint files\n",
        "checkpoint_prefix = os.path.join(checkpoint_dir, 'ckpt_{epoch}')\n",
        "\n",
        "checkpoint_callback=tf.keras.callbacks.ModelCheckpoint(\n",
        "    filepath=checkpoint_prefix,\n",
        "    save_weights_only=True\n",
        ")"
      ]
    },
    {
      "cell_type": "markdown",
      "metadata": {
        "id": "rr9XQONpHcbW"
      },
      "source": [
        "# Execute the training"
      ]
    },
    {
      "cell_type": "code",
      "execution_count": null,
      "metadata": {
        "colab": {
          "background_save": true,
          "base_uri": "https://localhost:8080/"
        },
        "id": "joseyLmKHeec",
        "outputId": "fefa5da6-8a42-45fa-9f4d-eb823f066a58"
      },
      "outputs": [
        {
          "name": "stdout",
          "output_type": "stream",
          "text": [
            "Input data shape: (64, 100)\n",
            "Labels shape: (64, 100)\n",
            "Epoch 1/40\n",
            "17/17 [==============================] - 194s 11s/step - loss: 6.5996\n",
            "Epoch 2/40\n",
            "17/17 [==============================] - 192s 11s/step - loss: 5.9062\n",
            "Epoch 3/40\n",
            "17/17 [==============================] - 196s 12s/step - loss: 5.8289\n",
            "Epoch 4/40\n",
            "17/17 [==============================] - 197s 12s/step - loss: 5.7237\n",
            "Epoch 5/40\n",
            "17/17 [==============================] - 204s 12s/step - loss: 5.5565\n",
            "Epoch 6/40\n",
            "17/17 [==============================] - 203s 12s/step - loss: 5.3808\n",
            "Epoch 7/40\n",
            "17/17 [==============================] - 194s 11s/step - loss: 5.2182\n",
            "Epoch 8/40\n",
            "17/17 [==============================] - 193s 11s/step - loss: 5.0708\n",
            "Epoch 9/40\n",
            "17/17 [==============================] - 199s 12s/step - loss: 4.9409\n",
            "Epoch 10/40\n",
            "17/17 [==============================] - 191s 11s/step - loss: 4.8213\n",
            "Epoch 11/40\n",
            "17/17 [==============================] - 190s 11s/step - loss: 4.7073\n",
            "Epoch 12/40\n",
            "17/17 [==============================] - 197s 12s/step - loss: 4.5908\n",
            "Epoch 13/40\n",
            "17/17 [==============================] - 191s 11s/step - loss: 4.4744\n",
            "Epoch 14/40\n",
            "17/17 [==============================] - 189s 11s/step - loss: 4.3622\n",
            "Epoch 15/40\n",
            "17/17 [==============================] - 195s 11s/step - loss: 4.2588\n",
            "Epoch 16/40\n",
            "17/17 [==============================] - 189s 11s/step - loss: 4.1658\n",
            "Epoch 17/40\n",
            "17/17 [==============================] - 190s 11s/step - loss: 4.0770\n",
            "Epoch 18/40\n",
            "17/17 [==============================] - 196s 12s/step - loss: 3.9953\n",
            "Epoch 19/40\n",
            "17/17 [==============================] - 189s 11s/step - loss: 3.9183\n",
            "Epoch 20/40\n",
            "17/17 [==============================] - 190s 11s/step - loss: 3.8434\n",
            "Epoch 21/40\n",
            "17/17 [==============================] - 196s 12s/step - loss: 3.7778\n",
            "Epoch 22/40\n",
            "17/17 [==============================] - 190s 11s/step - loss: 3.7213\n",
            "Epoch 23/40\n",
            "17/17 [==============================] - 190s 11s/step - loss: 3.6615\n",
            "Epoch 24/40\n",
            "17/17 [==============================] - 195s 12s/step - loss: 3.6024\n",
            "Epoch 25/40\n",
            "17/17 [==============================] - 189s 11s/step - loss: 3.5484\n",
            "Epoch 26/40\n",
            "17/17 [==============================] - 196s 12s/step - loss: 3.5027\n",
            "Epoch 27/40\n",
            "17/17 [==============================] - 203s 12s/step - loss: 3.4658\n",
            "Epoch 28/40\n",
            "17/17 [==============================] - 192s 11s/step - loss: 3.4121\n",
            "Epoch 29/40\n",
            "17/17 [==============================] - 188s 11s/step - loss: 3.3513\n",
            "Epoch 30/40\n",
            "17/17 [==============================] - 193s 11s/step - loss: 3.3041\n",
            "Epoch 31/40\n",
            "17/17 [==============================] - 188s 11s/step - loss: 3.2610\n",
            "Epoch 32/40\n",
            "17/17 [==============================] - 191s 11s/step - loss: 3.2187\n",
            "Epoch 33/40\n",
            "17/17 [==============================] - 192s 11s/step - loss: 3.1811\n",
            "Epoch 34/40\n",
            "17/17 [==============================] - 189s 11s/step - loss: 3.1408\n",
            "Epoch 35/40\n",
            "17/17 [==============================] - 189s 11s/step - loss: 3.1014\n",
            "Epoch 36/40\n",
            "17/17 [==============================] - 193s 11s/step - loss: 3.0668\n",
            "Epoch 37/40\n",
            "17/17 [==============================] - 188s 11s/step - loss: 3.0323\n",
            "Epoch 38/40\n",
            "17/17 [==============================] - 190s 11s/step - loss: 3.0035\n",
            "Epoch 39/40\n",
            "17/17 [==============================] - 204s 12s/step - loss: 2.9749\n",
            "Epoch 40/40\n",
            "17/17 [==============================] - 208s 12s/step - loss: 2.9479\n"
          ]
        }
      ],
      "source": [
        "for input_data, labels in dataset.take(1):\n",
        "    print(\"Input data shape:\", input_data.shape)\n",
        "    print(\"Labels shape:\", labels.shape)\n",
        "\n",
        "EPOCHS=40\n",
        "\n",
        "history = model.fit(\n",
        "  x=dataset,\n",
        "  epochs=EPOCHS,\n",
        "  callbacks=[\n",
        "    checkpoint_callback\n",
        "  ]\n",
        ")"
      ]
    },
    {
      "cell_type": "code",
      "execution_count": null,
      "metadata": {
        "colab": {
          "base_uri": "https://localhost:8080/",
          "height": 214
        },
        "id": "nRKDU4hSzkHN",
        "outputId": "4d692e74-332e-42e1-b66d-740602ba4559"
      },
      "outputs": [
        {
          "output_type": "error",
          "ename": "NameError",
          "evalue": "ignored",
          "traceback": [
            "\u001b[0;31m---------------------------------------------------------------------------\u001b[0m",
            "\u001b[0;31mNameError\u001b[0m                                 Traceback (most recent call last)",
            "\u001b[0;32m<ipython-input-14-2786c3b2e47a>\u001b[0m in \u001b[0;36m<cell line: 10>\u001b[0;34m()\u001b[0m\n\u001b[1;32m      8\u001b[0m     \u001b[0mplt\u001b[0m\u001b[0;34m.\u001b[0m\u001b[0mgrid\u001b[0m\u001b[0;34m(\u001b[0m\u001b[0mlinestyle\u001b[0m\u001b[0;34m=\u001b[0m\u001b[0;34m'--'\u001b[0m\u001b[0;34m,\u001b[0m \u001b[0mlinewidth\u001b[0m\u001b[0;34m=\u001b[0m\u001b[0;36m1\u001b[0m\u001b[0;34m,\u001b[0m \u001b[0malpha\u001b[0m\u001b[0;34m=\u001b[0m\u001b[0;36m0.5\u001b[0m\u001b[0;34m)\u001b[0m\u001b[0;34m\u001b[0m\u001b[0;34m\u001b[0m\u001b[0m\n\u001b[1;32m      9\u001b[0m     \u001b[0mplt\u001b[0m\u001b[0;34m.\u001b[0m\u001b[0mshow\u001b[0m\u001b[0;34m(\u001b[0m\u001b[0;34m)\u001b[0m\u001b[0;34m\u001b[0m\u001b[0;34m\u001b[0m\u001b[0m\n\u001b[0;32m---> 10\u001b[0;31m \u001b[0mrender_training_history\u001b[0m\u001b[0;34m(\u001b[0m\u001b[0mhistory\u001b[0m\u001b[0;34m)\u001b[0m\u001b[0;34m\u001b[0m\u001b[0;34m\u001b[0m\u001b[0m\n\u001b[0m",
            "\u001b[0;31mNameError\u001b[0m: name 'history' is not defined"
          ]
        }
      ],
      "source": [
        "def render_training_history(training_history):\n",
        "    loss = training_history.history['loss']\n",
        "    plt.title('Loss')\n",
        "    plt.xlabel('Epoch')\n",
        "    plt.ylabel('Loss')\n",
        "    plt.plot(loss, label='Training set')\n",
        "    plt.legend()\n",
        "    plt.grid(linestyle='--', linewidth=1, alpha=0.5)\n",
        "    plt.show()\n",
        "render_training_history(history)"
      ]
    },
    {
      "cell_type": "markdown",
      "metadata": {
        "id": "9M8f-O_tzus5"
      },
      "source": [
        "# Generate text"
      ]
    },
    {
      "cell_type": "code",
      "execution_count": null,
      "metadata": {
        "colab": {
          "base_uri": "https://localhost:8080/"
        },
        "id": "6w4m5CXPzq7j",
        "outputId": "5b90c8d9-f3ac-4ceb-ccd6-43848715c290"
      },
      "outputs": [
        {
          "output_type": "stream",
          "name": "stdout",
          "text": [
            "Model: \"sequential_1\"\n",
            "_________________________________________________________________\n",
            " Layer (type)                Output Shape              Param #   \n",
            "=================================================================\n",
            " embedding_1 (Embedding)     (1, None, 256)            1164544   \n",
            "                                                                 \n",
            " lstm_1 (LSTM)               (1, None, 1024)           5246976   \n",
            "                                                                 \n",
            " dense_1 (Dense)             (1, None, 4549)           4662725   \n",
            "                                                                 \n",
            "=================================================================\n",
            "Total params: 11074245 (42.24 MB)\n",
            "Trainable params: 11074245 (42.24 MB)\n",
            "Non-trainable params: 0 (0.00 Byte)\n",
            "_________________________________________________________________\n"
          ]
        }
      ],
      "source": [
        "checkpoint_dir = 'tmp/checkpoints'\n",
        "\n",
        "tf.train.latest_checkpoint(checkpoint_dir)\n",
        "\n",
        "simplified_batch_size = 1\n",
        "\n",
        "model = build_model(vocab_size, embedding_dim, rnn_units, batch_size=1)\n",
        "\n",
        "model.load_weights(tf.train.latest_checkpoint(checkpoint_dir))\n",
        "\n",
        "model.build(tf.TensorShape([simplified_batch_size, None]))\n",
        "\n",
        "model.summary()"
      ]
    },
    {
      "cell_type": "code",
      "execution_count": null,
      "metadata": {
        "colab": {
          "base_uri": "https://localhost:8080/"
        },
        "id": "0SGc92gG0pXk",
        "outputId": "afc28225-9303-44c5-f5f3-a16b6589d778"
      },
      "outputs": [
        {
          "output_type": "stream",
          "name": "stdout",
          "text": [
            "1. start by notable space petals self over gelatin\n",
            "1. cover, cook over medium-high heat\n",
            "2. add flour, beginning to a couple minutes\n",
            "3. reduce heat to low\n",
            "4. simmer 10 minutes, stirring once and adjusting meat batter\n",
            "5. stir in microwave blender, add tuna whites to taste\n",
            "6. s to medium\n",
            "7. cook for 12- 15 min 25 minutes and allow to ladle to cool!\n",
            "8. spray and wire in roasting pan or potato sided coriander, or until your cheese is lightly browned\n",
            "9. with flour crust, cooked the loaf pan and mix together\n",
            "10. preheat oven to 350 and spray\n",
            "11. mix together the dry ingredients to make a smooth smaller\n",
            "12. grease\n",
            "13. reduce this, fry 2-3 seconds or until browned through\n",
            "14. you can bake at 350 f\n",
            "15. cut each or tube pans in pizza pan\n",
            "16. place for one square container, line 4 claws\n",
            "17. place a cone brush into a tight offset potatoes, cut out on floured surface or spray and wrap with cooking\n",
            "18. ps\n",
            "19. preheat oven to 325 degrees covered with cooking sprayed\n",
            "20. prepare an 8-inch warm water, with your scones or glass what refrigerate until the rice starts to handle, however, turn them out mini bag and discard two layers, to allow steam to room temperature for 7-10 more or bubbly and flute\n",
            "21. mix potatoes into the morning, cover, and layer each arm to make well\n",
            "22. spread light corn or almonds at a round dish pan\n",
            "23. soup--add carrots, attach to a low bowl\n",
            "24. microwave the coriander, 3 mins or until it is a serrated cup and continue\n",
            "25. do not use margerine\n",
            "26. in a mixing bowl, combine 1 / 2 cup uncooked in non-stick size\n",
            "27. add bay cup sugar and mix over medium heat\n",
            "28. add 2 tablespoon at a time, beating after 1-2 minutes fitted\n",
            "29. cool 2 minutes\n",
            "30. 2 oz 5 with chicken and sugar\n",
            "31. stir in whipping cream and stir until coated and blend quickly\n",
            "32. leave for 45 minutes\n",
            "33. mix all ingredients well by roll\n",
            "34. can be taken shape the sides of oven to salad, whole bread sheet with plastic wrap\n",
            "35. make 3-inch cheese, oatmeal-like enough to thicken the sides\n",
            "36. i usually omit it will condense for a former light if it springs peas to blend\n",
            "37. brown ground beef in food processor\n",
            "38. add water but peas and no or 2nd start add 1 to 2 minutes\n",
            "39. hold the cake from the skillet from the heat and stir to cool\n",
            "40. store in greased more freezer\n",
            "41., always a little than you could if you make the cake is too!\n",
            "42. just before never serving hers 20-30 8!\n",
            "43. nuke cream& 8-ounce five grain up a bit: stand for 10 minutes or until rice but hollow inserted on lukewarm\n",
            "44. whisk in eggs with 3 / a leek\n",
            "45. a 12-inch mix to butter\n",
            "46. top the bowl with the tepanade, level them as that here and cut it into small cone, leaving waxed aside\n",
            "47. cool completely outward\n",
            "48. nb snugly and roll into cookie sheets\n",
            "49. makes 25 minutes may may need 1 or soda\n",
            "50. in your refrigerator for equal angle or deep mix\n",
            "51. rest this to start tunes a 200 degrees till lightly eat\n",
            "52. if youre air, sprinkle the entire cashews flatten one pound on a floured round around a baking sheet, store in bottom pieces of foil\n",
            "53. bake for 10 min 25 minutes or until golden but the tortilla is browned\n",
            "54. preheat oven to 350 degrees, grease about 2 hours\n",
            "55. mix flour\n",
            "56. push over\n",
            "57. preheat oven to 375f and spray a 9x13-inch pan dish with oil mix\n",
            "58. microwave on low for 10-12 hours\n",
            "59. cut potatoes into warm\n",
            "60. sandwich salad slice on ungreased freezer bag and forgetting to a 12 angle\n",
            "61. to make sure to you start to burn desired\n",
            "62. spoon cake top of squash or before serving\n",
            "63. bake at 375 degree dressing:\n",
            "64. if you wish to combine the rings\n",
            "65. preheat a small saucepan, jellyroll 1 / 2 1 / 2 cup flake cheese\n",
            "66. with fruit potatoes to potato sauce and allow to cool for 10 minutes, but not an hour --\n",
            "67. add the oil, onions and onions\n",
            "68. stir until blended\n",
            "69. sweetener: about 2 at 4 hours\n",
            "70. to drain your favorite potatoes are cooked falling away\n",
            "71. sprinkle top with the top with a serving of bread sheet\n",
            "72. layer one roll\n",
            "73. layer at a regular flame\n",
            "74. mix together a whisk\n",
            "75. bring to simmer for 20 minutes\n",
            "76. remove from heat and let it sit until doubled in pan\n",
            "77. this are eleven done\n",
            "78. the core and optional: bay used made, coat your favorite potatoes, top with almonds\n",
            "79. enjoy! }}: for another 16 loaf, i slice them i also crush tomatoes some better\n",
            "80. do a sharp mat in a additional 1 / 2 inch baking dish or tupperware or in a medium pan\n",
            "81. bake at 375\n",
            "82. prepare 2 where 2 - more then saute roll up to 1 / 2 of the frosting cubes\n",
            "83. in same bowl, combine 1 1 / 2 tablespoons of cream the flour\n",
            "84. push the halibut processor on a surface and slice into slices of the squares\n",
            "85. preheat oven to 350f\n",
            "86. cook for a 3 / 8 hours then remove brownies from pans about 35 to 20 minutes or until toothpick comes out clean\n",
            "87. remove surface from saucepan, opening to allow to room temperature\n",
            "88. blend\n",
            "89. bake for several hours\n",
            "90. this taste\n"
          ]
        }
      ],
      "source": [
        "# num_generate\n",
        "# - number of characters to generate.\n",
        "#\n",
        "# temperature\n",
        "# - Low temperatures results in more predictable text.\n",
        "# - Higher temperatures results in more surprising text.\n",
        "# - Experiment to find the best setting.\n",
        "def generate_text(model, start_string, num_generate = 1000, temperature=1.0):\n",
        "    # Evaluation step (generating text using the learned model)\n",
        "\n",
        "    # Converting our start string to numbers (vectorizing).\n",
        "    input_index = [word2index[word] for word in start_string.split()]\n",
        "    input_indices = tf.expand_dims(input_index, 0)\n",
        "\n",
        "    # Index to keep track of step number\n",
        "    index = 1\n",
        "    # Empty string to store our results.\n",
        "    text_generated = []\n",
        "\n",
        "    text_generated.append(f'{index}. {start_string}')\n",
        "\n",
        "    # Here batch size == 1.\n",
        "    model.reset_states()\n",
        "    for char_index in range(num_generate):\n",
        "        predictions = model(input_indices)\n",
        "        # remove the batch dimension\n",
        "        predictions = tf.squeeze(predictions, 0)\n",
        "\n",
        "        # Using a categorical distribution to predict the character returned by the model.\n",
        "        predictions = predictions / temperature\n",
        "        predicted_id = tf.random.categorical(\n",
        "        predictions,\n",
        "        num_samples=1\n",
        "        )[-1,0].numpy()\n",
        "\n",
        "        # We pass the predicted character as the next input to the model\n",
        "        # along with the previous hidden state.\n",
        "        input_indices = tf.expand_dims([predicted_id], 0)\n",
        "        if \"\\n\" == index2char[predicted_id]:\n",
        "          text_generated[-1] += f'\\n{index}.'\n",
        "          index += 1\n",
        "        elif \" \" == index2char[predicted_id] or \"\" == index2char[predicted_id]:\n",
        "          pass\n",
        "        elif \",\" == index2char[predicted_id] or \"!\" == index2char[predicted_id]:\n",
        "          text_generated[-1] += index2char[predicted_id]\n",
        "        else:\n",
        "          text_generated.append(index2char[predicted_id].strip())\n",
        "\n",
        "\n",
        "    return (' '.join(text_generated))\n",
        "\n",
        "# Generate the text with default temperature (1.0).\n",
        "print(generate_text(model, start_string=\"start by\"))"
      ]
    },
    {
      "cell_type": "markdown",
      "source": [
        "Saves the model"
      ],
      "metadata": {
        "id": "H0ODJVuaEf8Q"
      }
    },
    {
      "cell_type": "code",
      "execution_count": null,
      "metadata": {
        "colab": {
          "base_uri": "https://localhost:8080/"
        },
        "id": "NFx13d6E1zX3",
        "outputId": "dc2975d2-fd0b-42c8-ebbf-71fd90c8cf5f"
      },
      "outputs": [
        {
          "output_type": "stream",
          "name": "stderr",
          "text": [
            "/usr/local/lib/python3.10/dist-packages/keras/src/engine/training.py:3103: UserWarning: You are saving your model as an HDF5 file via `model.save()`. This file format is considered legacy. We recommend using instead the native Keras format, e.g. `model.save('my_model.keras')`.\n",
            "  saving_api.save_model(\n",
            "WARNING:tensorflow:Compiled the loaded model, but the compiled metrics have yet to be built. `model.compile_metrics` will be empty until you train or evaluate the model.\n"
          ]
        }
      ],
      "source": [
        "model_name = 'text_generation_shakespeare_rnn.h5'\n",
        "model.save(model_name, save_format='h5')"
      ]
    }
  ],
  "metadata": {
    "colab": {
      "provenance": [],
      "mount_file_id": "1TJfLzH4G7v_P5fnEE64hSDAZvlFM8rjM",
      "authorship_tag": "ABX9TyNlyLGpxQFn7d2c9MXgT9Jk",
      "include_colab_link": true
    },
    "kernelspec": {
      "display_name": "Python 3",
      "name": "python3"
    },
    "language_info": {
      "name": "python"
    }
  },
  "nbformat": 4,
  "nbformat_minor": 0
}