{
  "cells": [
    {
      "cell_type": "markdown",
      "metadata": {
        "id": "view-in-github",
        "colab_type": "text"
      },
      "source": [
        "<a href=\"https://colab.research.google.com/github/notrandomath/Recipe-Generator-AI/blob/main/Food.ipynb\" target=\"_parent\"><img src=\"https://colab.research.google.com/assets/colab-badge.svg\" alt=\"Open In Colab\"/></a>"
      ]
    },
    {
      "cell_type": "markdown",
      "metadata": {
        "id": "oXpKPSx8m8XE"
      },
      "source": [
        "Inspired by / based on: [shakespeare generator](https://github.com/trekhleb/machine-learning-experiments/blob/master/experiments/text_generation_shakespeare_rnn/text_generation_shakespeare_rnn.ipynb)"
      ]
    },
    {
      "cell_type": "markdown",
      "metadata": {
        "id": "ttfa40eU9XtZ"
      },
      "source": [
        "# Import Dependencies"
      ]
    },
    {
      "cell_type": "code",
      "execution_count": 1,
      "metadata": {
        "colab": {
          "base_uri": "https://localhost:8080/"
        },
        "id": "eBF671U-7KsB",
        "outputId": "2809168b-9879-4f2e-ec17-afb6d012e697"
      },
      "outputs": [
        {
          "output_type": "stream",
          "name": "stdout",
          "text": [
            "Python version: 3.10.12\n",
            "Tensorflow version: 2.15.0\n"
          ]
        }
      ],
      "source": [
        "from google.colab import drive\n",
        "import pandas as pd\n",
        "import tensorflow as tf\n",
        "import matplotlib.pyplot as plt\n",
        "import numpy as np\n",
        "import platform\n",
        "import time\n",
        "import pathlib\n",
        "import os\n",
        "import ast\n",
        "\n",
        "print('Python version:', platform.python_version())\n",
        "print('Tensorflow version:', tf.__version__)"
      ]
    },
    {
      "cell_type": "markdown",
      "metadata": {
        "id": "c-28xrAD60Oz"
      },
      "source": [
        "# Import Dataset\n"
      ]
    },
    {
      "cell_type": "markdown",
      "metadata": {
        "id": "EKQrSHHYO6pn"
      },
      "source": [
        "change project folder location to google drive (source: https://robertbrucecarter.com/writing/2020/06/setting-your-working-directory-to-google-drive-in-a-colab-notebook/)"
      ]
    },
    {
      "cell_type": "code",
      "execution_count": 2,
      "metadata": {
        "id": "S39ZyxxEO_3h"
      },
      "outputs": [],
      "source": [
        "# Set your working directory to a folder in your Google Drive. This way, if your notebook times out,\n",
        "# your files will be saved in your Google Drive!\n",
        "\n",
        "# the base Google Drive directory\n",
        "root_dir = \"/content/drive/MyDrive/\"\n",
        "\n",
        "# choose where you want your project files to be saved\n",
        "project_folder = \"Colab Notebooks/Food/\"\n",
        "\n",
        "def create_and_set_working_directory(project_folder):\n",
        "  # check if your project folder exists. if not, it will be created.\n",
        "  if os.path.isdir(root_dir + project_folder) == False:\n",
        "    os.mkdir(root_dir + project_folder)\n",
        "    print(root_dir + project_folder + ' did not exist but was created.')\n",
        "\n",
        "  # change the OS to use your project folder as the working directory\n",
        "  os.chdir(root_dir + project_folder)\n",
        "\n",
        "create_and_set_working_directory(project_folder)"
      ]
    },
    {
      "cell_type": "markdown",
      "metadata": {
        "id": "B7Upzwfv9n86"
      },
      "source": [
        "based on [stack overflow](https://stackoverflow.com/a/53282688)"
      ]
    },
    {
      "cell_type": "code",
      "execution_count": 3,
      "metadata": {
        "colab": {
          "base_uri": "https://localhost:8080/"
        },
        "id": "BXt1oDfja5XJ",
        "outputId": "65e093b3-87a2-4f12-a795-9edea8e40807"
      },
      "outputs": [
        {
          "output_type": "stream",
          "name": "stdout",
          "text": [
            "                                                  name      id  minutes  \\\n",
            "0           arriba   baked winter squash mexican style  137739       55   \n",
            "1                     a bit different  breakfast pizza   31490       30   \n",
            "2                            all in the kitchen  chili  112140      130   \n",
            "3                                   alouette  potatoes   59389       45   \n",
            "4                   amish  tomato ketchup  for canning   44061      190   \n",
            "..                                                 ...     ...      ...   \n",
            "251                     pass me another   hot clam dip  147477       15   \n",
            "252                      pasta  with shrimp   eggplant  223349       50   \n",
            "253                        perfect  chocolate frosting   86768       15   \n",
            "254  pink stuff     cherry pie filling  pineapple d...  197001        5   \n",
            "255                            pizza pan  potato skins   60938       60   \n",
            "\n",
            "     contributor_id   submitted  \\\n",
            "0             47892  2005-09-16   \n",
            "1             26278  2002-06-17   \n",
            "2            196586  2005-02-25   \n",
            "3             68585  2003-04-14   \n",
            "4             41706  2002-10-25   \n",
            "..              ...         ...   \n",
            "251          135442  2005-12-05   \n",
            "252          452592  2007-04-18   \n",
            "253           55225  2004-03-16   \n",
            "254          343789  2006-11-21   \n",
            "255           35635  2003-04-24   \n",
            "\n",
            "                                                  tags  \\\n",
            "0    ['60-minutes-or-less', 'time-to-make', 'course...   \n",
            "1    ['30-minutes-or-less', 'time-to-make', 'course...   \n",
            "2    ['time-to-make', 'course', 'preparation', 'mai...   \n",
            "3    ['60-minutes-or-less', 'time-to-make', 'course...   \n",
            "4    ['weeknight', 'time-to-make', 'course', 'main-...   \n",
            "..                                                 ...   \n",
            "251  ['15-minutes-or-less', 'time-to-make', 'course...   \n",
            "252  ['60-minutes-or-less', 'time-to-make', 'course...   \n",
            "253  ['15-minutes-or-less', 'time-to-make', 'course...   \n",
            "254  ['15-minutes-or-less', 'time-to-make', 'course...   \n",
            "255  ['60-minutes-or-less', 'time-to-make', 'course...   \n",
            "\n",
            "                                             nutrition  n_steps  \\\n",
            "0                [51.5, 0.0, 13.0, 0.0, 2.0, 0.0, 4.0]       11   \n",
            "1            [173.4, 18.0, 0.0, 17.0, 22.0, 35.0, 1.0]        9   \n",
            "2           [269.8, 22.0, 32.0, 48.0, 39.0, 27.0, 5.0]        6   \n",
            "3            [368.1, 17.0, 10.0, 2.0, 14.0, 8.0, 20.0]       11   \n",
            "4            [352.9, 1.0, 337.0, 23.0, 3.0, 0.0, 28.0]        5   \n",
            "..                                                 ...      ...   \n",
            "251           [119.9, 12.0, 1.0, 7.0, 19.0, 25.0, 0.0]        3   \n",
            "252          [283.5, 16.0, 25.0, 11.0, 52.0, 8.0, 7.0]        7   \n",
            "253  [4076.9, 491.0, 1181.0, 71.0, 53.0, 1001.0, 11...       14   \n",
            "254         [338.9, 18.0, 150.0, 2.0, 8.0, 48.0, 18.0]        3   \n",
            "255         [503.9, 45.0, 9.0, 23.0, 37.0, 68.0, 13.0]       10   \n",
            "\n",
            "                                                 steps  \\\n",
            "0    ['make a choice and proceed with recipe', 'dep...   \n",
            "1    ['preheat oven to 425 degrees f', 'press dough...   \n",
            "2    ['brown ground beef in large pot', 'add choppe...   \n",
            "3    ['place potatoes in a large pot of lightly sal...   \n",
            "4    ['mix all ingredients& boil for 2 1 / 2 hours ...   \n",
            "..                                                 ...   \n",
            "251  ['mix together and bake until cheese melts', '...   \n",
            "252  ['heat oil in a nonstick skillet over medium h...   \n",
            "253  ['place a large bowl , filled halfway with ice...   \n",
            "254  ['combine all ingredients and mix well', 'serv...   \n",
            "255  ['preheat oven to 375f', 'cook the diced bacon...   \n",
            "\n",
            "                                           description  \\\n",
            "0    autumn is my favorite time of year to cook! th...   \n",
            "1    this recipe calls for the crust to be prebaked...   \n",
            "2    this modified version of 'mom's' chili was a h...   \n",
            "3    this is a super easy, great tasting, make ahea...   \n",
            "4    my dh's amish mother raised him on this recipe...   \n",
            "..                                                 ...   \n",
            "251  this recipe is from an appetizer book that i i...   \n",
            "252  a nice low carb way to feel like you are eatin...   \n",
            "253  this is now one of my favorite chocolate frost...   \n",
            "254  my husband and children would literally die wi...   \n",
            "255  there's a pub we go to that makes their own fr...   \n",
            "\n",
            "                                           ingredients  n_ingredients  \n",
            "0    ['winter squash', 'mexican seasoning', 'mixed ...              7  \n",
            "1    ['prepared pizza crust', 'sausage patty', 'egg...              6  \n",
            "2    ['ground beef', 'yellow onions', 'diced tomato...             13  \n",
            "3    ['spreadable cheese with garlic and herbs', 'n...             11  \n",
            "4    ['tomato juice', 'apple cider vinegar', 'sugar...              8  \n",
            "..                                                 ...            ...  \n",
            "251  ['sharp cheddar cheese', 'green onions', 'gree...              7  \n",
            "252  ['olive oil', 'eggplants', 'spaghetti squash',...              9  \n",
            "253  ['semisweet chocolate', 'heavy cream', 'butter...              4  \n",
            "254  ['cherry pie filling', 'sweetened condensed mi...              6  \n",
            "255  ['potatoes', 'bacon', 'cheddar cheese', 'green...              7  \n",
            "\n",
            "[256 rows x 12 columns]\n"
          ]
        }
      ],
      "source": [
        "df=pd.read_csv('food_recipes/RAW_recipes.csv')\n",
        "df = df.head(256)\n",
        "print(df)"
      ]
    },
    {
      "cell_type": "markdown",
      "metadata": {
        "id": "QL2LnRkJ-hTC"
      },
      "source": [
        "# Analyze Dataset"
      ]
    },
    {
      "cell_type": "code",
      "execution_count": 4,
      "metadata": {
        "id": "2I4MAVFN_S3V"
      },
      "outputs": [],
      "source": [
        "def convert_to_numbered_list(string_representation):\n",
        "    lst = ast.literal_eval(string_representation)\n",
        "    return \"\\n\".join(lst) + '\\n'\n",
        "df['steps'] = df['steps'].apply(lambda x: convert_to_numbered_list(x))"
      ]
    },
    {
      "cell_type": "code",
      "source": [
        "all_steps_text = ''.join(df['steps'])\n",
        "# gets length of all the steps in all recipes\n",
        "print(len(all_steps_text))\n",
        "# prints first steps\n",
        "print(all_steps_text[:250])\n",
        "# prints the unique characters in the file\n",
        "vocab = sorted(set(all_steps_text.replace(\"\\n\", \" \\n \").split(sep=\" \")))\n",
        "print(f'{len(vocab)} unique words')\n",
        "print(f'vocab: {vocab}')"
      ],
      "metadata": {
        "colab": {
          "base_uri": "https://localhost:8080/"
        },
        "id": "jO_KAI_6adZK",
        "outputId": "f8743dca-2364-4def-cddb-193a80b540d7"
      },
      "execution_count": 5,
      "outputs": [
        {
          "output_type": "stream",
          "name": "stdout",
          "text": [
            "131508\n",
            "make a choice and proceed with recipe\n",
            "depending on size of squash , cut into half or fourths\n",
            "remove seeds\n",
            "for spicy squash , drizzle olive oil or melted butter over each cut squash piece\n",
            "season with mexican seasoning mix ii\n",
            "for sweet squash , drizzle\n",
            "2250 unique words\n",
            "vocab: ['', '\\n', '!', '\"caramalized\"', '\"dress', '\"dry\"', '\"dust\"', '\"high\"', '\"hold\"in', '\"low\"', '\"naked\"', '\"wet\"', '&', \"'bed'\", \"'my\", '(if', ',', '-', '--', '-inch', '/', '00', '1', '1\"', '1-1', '1-2', '1-quart', '10', '10\"', '10-12', '10-14', '10-15', '10-inch', '100', '10minutes', '10~20', '11', '12', '12-', '12-15', '12-muffin', '13', '13\"', '13-15', '13x9', '13x9-inch', '13x9x2-inch', '14-15', '15', '15-20', '15minutes', '15x10-inch', '16', '160f', '17\"x10\"', '175', '18-20', '180c', '1ltr', '1tbsp', '2', '2\"', '2-1', '2-3', '2-4', '2-gallon', '2-inch', '2-quart', '20', '20-25', '20-30', '20-ounce', '200', '200c', '20cm', '24', '25', '25-30', '250', '2tbsp', '3', '3\"', '3-4', '3-5', '3-quart', '30', '30-35', '30-40', '30-45', '300', '300f', '32', '325', '325f', '35', '35-40', '35-45', '350', '350:', '350^f', '350f', '36', '375', '375c', '375f', '3x9-inch', '4', '4-5', '4-6', '4-inch', '4-inch-thick', '4-quart', '40', '40-', '400', '400f', '425', '425f', '45', '45-50', '450', '450f', '45min', '48', '4oz', '5', '5\"', '5-10', '5-6', '5-7', '5-8', '50', '50%', '50-', '50-60', '500', '55', '5min', '5th', '6', '6-10', '6-8', '60', '7', '7-10', '7-8', '7-9', '7-quart', '8', '8\"', '8-10', '8-12', '8-15', '8-by-8-inch', '8-inch', '8x8', '8x8-inch', '9', '9\"', \"9'x11'\", '9-inch', '90', '913-inch', '9x13', '9x13-inch', '9x5', '9x5\"', '9x5x3-inch', '9x9', ':)', ']]', 'a', 'a#21', \"a'sealed'\", 'aahs', 'abit', 'able', 'about', 'above', 'absorb', 'absorbed', 'according', 'acid-proof', 'acidity', 'add', 'added', 'adding', 'addition', 'additional', 'adjust', 'adjusted', 'adjusting', 'adobo', 'advance', 'aelplermagrone', 'after', 'afterwards', 'again', 'ahead', 'air', 'air-tight', 'airtight', 'aisle', 'al', 'all', 'allow', 'allowing', 'allspice', 'almond', 'almonds', 'almost', 'along', 'alongside', 'alot', 'also', 'alternately', 'alternating', 'alternative', 'alternatively', 'aluminum', 'always', 'amish', 'amount', 'amounts', 'an', 'and', 'angel', 'anise', 'another', 'anticipate', 'any', 'anyway', 'apart', 'appear', 'appetizer', 'apple', 'apples', 'applesauce', 'applewood', 'apply', 'approx', 'approximately', 'approximly', 'are', 'aroma', 'around', 'arrange', 'artichoke', 'as', 'aside', 'asked', 'asparagus', 'assemble', 'assembled\"cake\"', 'assembly', 'assorted', 'at', 'atop', 'attire', 'avacado', 'avocado', 'avoid', 'away', 'awesome', 'baby', 'back', 'bacon', 'bag', 'bags', 'bake', 'bake@', 'baked', 'baking', 'baking--', 'balances', 'ball', 'balls', 'balls:', 'bamboo', 'banana', 'bananas', 'barbecue', 'bare', 'barely', 'bars', 'base', 'basil', 'baste', 'basting', 'batch', 'batches', 'batter', 'batter:', 'battered', 'bay', 'bbq', 'be', 'bean', 'beans', 'beat', 'beaten', 'beater', 'beating', 'beautiful', 'become', 'becomes', 'bed', 'beef', 'been', 'beer', 'beets', 'before', 'begin', 'begins', 'being', 'bell', 'beneficial', 'berries', 'best', 'better', 'between', 'bibb', 'biscuit', 'biscuits', 'bisquick', 'bit', 'bite', 'bits', 'bitter', 'black', 'blade', 'blanched', 'blemished', 'blend', 'blended', 'blender', 'blending', 'blind', 'block', 'blot', 'blueberry', 'board', 'boat', 'body', 'boil', 'boiled', 'boiler', 'boiling', 'bone', 'boneless', 'border', 'both', 'bottle', 'bottles', 'bottom', 'bottoms', 'bouillon', 'bouquet', 'bowl', 'bowl:', 'bowls', 'box', 'braise', 'bran', 'bread', 'breadcrumb', 'breadcrumbs', 'break', 'breast', 'breasts', 'briefly', 'bright', 'brimming', 'bring', 'broccoli', 'broil', 'broiler', 'broken', 'broth', 'brown', 'browned', 'brownie', 'brownies', 'browning', 'browns', 'brush', 'bubble', 'bubbles', 'bubbling', 'bubbly', 'buffet', 'build', 'bulk', 'bullion', 'bun', 'bun\"', 'bunch', 'bundt', 'buns', 'burek', 'burger', 'burgers', 'burn', 'burned', 'burner', 'burns', 'but', 'butter', 'butter&', 'buttercream', 'buttercream:', 'buttered', 'buttermilk', 'butterscotch', 'buy', 'by', 'c', 'cabbage', 'cajun', 'cake', 'cake:', 'calamari', 'calamri', 'called', 'calls', 'camping', 'can', 'candied', 'candy', 'candy-cane', 'canned', 'cans', 'canton', 'capsules', 'caramel-like', 'caramelize', 'cardamom', 'care', 'careful', 'carefully', 'carrot', 'carrots', 'carving', 'cashews', 'casserole', 'casseroles', 'cast', 'catfish', 'cauliflower', 'cautious', 'cavity', 'cayenne', 'celery', 'center', 'centers', 'centre', 'cereal', 'challah', 'chard', 'charred', 'check', 'cheddar', 'cheese', 'cheesecake', 'cheesecake:', 'cheesecloth', 'cheeses', 'chef', 'cherries', 'cherry', 'chestnuts', 'chewy', 'chicken', 'chicken:', 'chickpea', 'chickpeas', 'chile', 'chiles', 'chili', 'chill', 'chilled', 'chilli', 'chinese', 'chipotle', 'chips', 'chives', 'chocolate', 'choice', 'chop', 'chopped', 'chops', 'chosen', 'chunks', 'chunky', 'cilantro', 'cinnamon', 'circle', 'clean', 'clear', 'clinging', 'close', 'closed', 'cloth', 'cloudy', 'cloves', 'coagulated', 'coals', 'coarse', 'coarsely', 'coat', 'coated', 'coating', 'cob', 'cobb', 'cobs', 'cocktail', 'cocoa', 'coconut', 'coffee', 'colander', 'cold', 'collards', 'color', 'colored', 'colors', 'combine', 'combined', 'combining', 'come', 'comes', 'comfortable', 'coming', 'complement', 'complete', 'completed', 'completely', 'concentrate', 'condense', 'condensed', 'condi-', 'condiments', \"confectioners'\", 'consistency', 'consomme', 'constantly', 'consume', 'contain', 'container', 'containers', 'contents', 'continue', 'continuing', 'continuously', 'cook', \"cook's\", 'cooked', 'cooker', 'cookie', 'cookies', 'cooking', 'cooks', 'cool', 'cool&', 'cool-whip', 'cooled', 'cooler', 'cooling', 'cools', 'core', 'coriander', 'corn', 'cornbread', 'corner', 'corners', 'cornmeal', 'cornstarch', 'correct', 'cottage', 'could', 'country', 'couple', 'cover', 'covered', 'covers', 'crab', 'crabmeat', 'crack', 'cracked', 'cracker', 'crackers', 'cranberry', 'crannies', 'cream', 'cream&', 'creamed', 'creamy', 'create', 'created', 'creative', 'cretons', 'crisp', 'crispy', 'crock', 'crockpot', 'crocks', 'croutons', 'crowd', 'cruet', 'crumble', 'crumbled', 'crumbles', 'crumbling', 'crumbs', 'crumbs&', 'crumple', 'crums', 'crunchy', 'crush', 'crushed', 'crust', 'crust:', 'crusty', 'crystallized', 'cube', 'cubed', 'cubes', 'cucumber', 'cucumbers', 'cumbs', 'cumin', 'cup', 'cupfuls', 'cups', 'cut', 'cut-up', 'cutlet', 'cutlets', 'cutters', 'cutting', 'cuttings', 'cycle', 'da', 'dabs', 'damp', 'dante', 'darker', 'dash', 'date', 'dates', 'day', 'day\"', 'days', 'decent', 'decorate', 'decorating', 'deep', 'deeply', 'deflating', 'defrost', 'defrosted', 'deg', 'deglaze', 'degree', 'degrees', 'dente', 'depending', 'design', 'desired', 'dessert', 'determine', 'diamond', 'dice', 'diced', 'difference', 'difficult', 'dijon', 'dill', 'dilute', 'diner', 'dinner', 'dip', 'dipping', 'directed', 'directions', 'dirt', 'discard', 'dish', 'disolved', 'dispose', 'dissolve', 'dissolved', 'distribute', 'divide', 'do', 'does', \"doesn't\", 'doesnt', 'dogs', \"don't\", 'done', 'done:', 'doneness', 'dosage:', 'dose', 'double', 'dough', 'doughy', 'down', 'draft', 'drain', 'drained', 'draining', 'dream', 'dredge', 'dressing', 'dressing:', 'dried', 'drink', 'drip', 'dripmelted', 'drippings:', 'drizzle', 'drop', 'dropping', 'dry', 'dry-looking', 'dumplings', 'during', 'dust', 'dusting', 'dutch', 'duty', 'each', 'eagerly', 'ear', 'ears', 'easier', 'easily', 'easy', 'eat', 'eating', 'eats', 'edge', 'edges', 'egg', 'eggplant', 'eggs', 'eggs&', 'either', 'electric', 'empanada', 'empty', 'end', 'ending', 'ends', 'enjoy', 'enough', 'ensure', 'entire', 'equal', 'equally', 'especially', 'espresso', 'etc', 'evaporated', 'even', 'evenly', 'ever', 'every', 'everyone', 'everything', 'excellent', 'except', 'excess', 'experience', 'explain', 'exposed', 'extra', 'extract', 'extracts', 'extremely', 'eyeing', 'f', 'face', 'facing', 'fairly', 'fall', 'falling', 'family', 'fast-food', 'faster', 'fat', 'favored', 'favorite', 'favourite', 'feed', 'feel', 'fennel', 'festive', 'feta', 'few', 'fiber', 'fil', 'filaments', 'filets', 'fill', 'filled', 'filling', 'filling:', 'fills', 'filter', 'final', 'finally', 'find', 'fine', 'finely', 'finer', 'finger', 'fingers', 'finish', 'finished', 'firm', 'firmly', 'first', 'fish', 'fish:', 'fit', 'fitted', 'five', 'flakes', 'flame', 'flat', 'flat--', 'flatten', 'flavor', 'flavored', 'flavorings', 'flavors', 'flavour', 'flax', 'flesh', 'flip', 'flipping', 'florets', 'flour', 'floured', 'flours', 'flow', 'fluff', 'fluffy', 'fluid', 'fluting', 'foam', 'foil', 'foil-lined', 'fold', 'folded', 'folds', 'followed', 'following', 'follows', 'food', 'for', 'for\"hot\"', 'forget', 'fork', 'form', 'formal', 'formed', 'forms', 'found', 'four', 'fourths', 'free', 'freeze', 'freezer', 'freezes', 'freezing', 'freheat', 'french', 'frequently', 'fresh', 'freshly', 'freshness', 'fridge', 'fried', 'friends', 'fries', 'frige', 'fring', 'from', 'frost', 'frosting', 'frosting:', 'froth', 'frothy', 'frozen', 'fruit', 'fruit:', 'fruits', 'fry', 'fryer', 'frying', 'fudge', 'fudgy', 'full', 'fullest', 'fully', 'further', 'future', 'gallons', 'ganache', 'garden', 'garlic', 'garnish', 'garnished', 'garnishes', 'garnishing', 'gather', 'gelatin', 'generously', 'gentle', 'gently', 'germ', 'get', 'gets', 'getting', 'ghee', 'giblets', 'ginger', 'gingerroot', 'give', 'glass', 'glasses', 'glaze', 'glossiness', 'gloves', 'gnocchi', 'go', 'goat', 'goes', 'going', 'gold', 'golden', 'gone', 'good', 'grab', 'grabs', 'graciously', 'gradually', 'graham', 'grains', 'grand', 'grandmas', 'granulated', 'grapes', 'grated', 'gravy', 'gravy:', 'grease', 'greased', 'great', 'green', 'greens', 'grill', 'grilling', 'grind', 'grip', 'ground', 'grown', 'guests', 'guilt', 'gumbo', 'gut', 'habanero', 'had', 'hair', 'half', 'halfway', 'hallow', 'halve', 'halves', 'ham', 'hamburger', 'hamburgers', 'hand', 'handful', 'handfuls', 'handle', 'handled', 'hands', 'hang', 'hard', 'has', 'have', 'having', 'hawaiian', 'head', 'heart', 'hearts', 'heat', 'heated', 'heating', 'heavy', 'help', 'helpful', 'helpings', 'her', 'herb', 'herbs', 'here', \"here's\", 'high', 'highest', 'hints:', 'his', 'hock', 'hoisin', 'hold', 'hole', 'holes', 'hollow', 'honey', 'horizontally', 'horseradish', 'hot', 'hour', 'hours', 'house', 'how', 'however', 'hunger', 'i', \"i'm\", \"i've\", 'ice', 'ice--skip', 'icing', 'icing:', 'if', 'ii', 'immediately', 'immersion', 'important', 'in', 'inch', 'inches', 'include', 'including', 'incorporated', 'increase', 'index', 'indirect', 'individual', 'ingredients', 'ingredients&', 'ingredients:', 'initial', 'ink', 'insert', 'inserted', 'inside', 'insides', 'instead', 'instructions', 'instructions:', 'intact', 'interesting', 'internal', 'into', 'invert', 'inverting', 'iron', 'is', \"isn't\", 'it', \"it's\", 'italian', 'jalapenos', 'jalapeo', 'jalepenos', 'jar', 'jars', 'jelly', 'juice', 'juices', 'just', 'kale', 'keep', 'keeps', 'kept', 'kernels', 'ketchup', 'kettle', 'kidney', 'kind', 'king', 'kitchen', 'knead', 'kneading', 'knife', 'know', 'kosher', 'label', 'ladle', 'large', 'larger', 'lasagna', 'last', 'lastly', 'lasts', 'later', 'lay', 'layer', 'layer:', 'layered', 'layering', 'layers', 'leaf', 'lean', 'least', 'leave', 'leaves', 'leaving', 'leeks', 'left', 'leftover', 'leftovers', 'lemon', 'lemongrass', 'lengthwise', 'less', 'let', 'lettuce', 'level', 'liberally', 'lid', 'lids', 'life', 'lift', 'light', 'light&', 'lightly', 'like', 'likely', 'liking', 'liking--', 'lime', 'limeade', 'limp', 'line', 'lined', 'liners', 'liqueur', 'liquid', 'listed', 'litre', 'little', 'loaf', 'loaves', 'log', 'london', 'long', 'longer', 'looked', 'looking', 'looks', 'loosely', 'loosen', 'loses', 'lot', 'louisiana', 'low', 'low-medium', 'lower', 'lowest', 'lumps', 'lumpy', 'mac', 'macaroni', 'macaroni&', 'machine', 'made', 'main', 'maintain', 'make', 'makes', 'making', 'mallet', 'mangoes', 'manner', 'many', 'maple', 'margarine', 'marinade', 'marinate', 'marinates', 'market', 'marks', 'marmalade', 'marnier', 'marshmallows', 'mash', 'mashed', 'masher', 'mashing', 'matza', 'matzah', 'may', 'mayo', 'mayonnaise', 'me', 'meal', 'meal-like', 'meanwhile', 'measure', 'meat', 'meatball', 'meatballs', 'meatloaf', 'meatloaves', 'meats', 'med', 'med-high', 'medal', 'medium', 'medium-high', 'medium-large', 'medium-low', 'medium-well', 'meet', 'melt', 'melted', 'melts', 'ments', 'mesh', 'meskan', 'mess', 'metal', 'mexican', 'microwave', 'microwaveable', 'middle', 'might', 'milk', 'min', 'mince', 'minced', 'mincemeat', 'mine', 'mingle', 'mini', 'minimal', 'minimum', 'mins', 'minute', 'minutes', 'miss', 'mix', 'mixed', 'mixer', 'mixing', 'mixture', 'mixtures', 'mixute', 'moderate', 'moderately', 'moist', 'moisten', 'moistened', 'moistening', 'moisture', 'molasses', 'molds', 'months', 'montreal', 'mood', 'mop', 'more', 'morning', 'most', 'mostly', 'mother-in-law', 'mound', 'mounds', 'mozarella', 'mozzarella', 'mozzerella', 'much', 'muffin', 'muffins', 'mug', 'munch', 'murky', 'muscat', 'mushroom', 'mushrooms', 'mushy', 'must', 'mustard', 'my', 'near', 'nearly', 'neatly', 'necessary', 'neck', 'nectarines', 'need', 'need:', 'needed', 'needs', 'neutralize', 'never', 'next', 'nice', 'nicely', 'nidwalden', 'night', 'nine', 'no', 'non', 'non-reactive', 'non-stick', 'nonstick', 'noodels', 'noodle', 'noodles', 'nooks', 'normal', 'not', 'noticeable', 'now', 'nto', 'nutmeg', 'nuts', 'oatmeal', 'oatmeal:', 'oats', 'oblong', 'observation:', 'occasionally', 'odors', 'of', 'off', 'offer', 'offset', 'often', 'oil', 'oils', 'ok', 'okra', 'old', 'old-fashioned', 'olive', 'olives', 'omelets', 'on', 'once', 'one', 'one-half', 'one-inch', 'one-third', 'ones', 'onion', 'onions', 'only', 'onto', 'oohs', 'ooze', 'open', 'opt', 'optional', 'or', 'orange', 'oranges', 'order', 'order:', 'oregano', 'original', 'originally', 'ortega', 'orzo', 'other', 'ounce', 'ounces', 'out', 'outside', 'oven', 'oven-proof', 'ovenproof', 'over', 'overbake', 'overcook', 'overheat', 'overmix', 'overnight', 'overs', 'own', 'oyster', 'oz', 'p', 'pack', 'package', 'packaged', 'packages', 'packet', 'palm', 'pam', 'pan', 'pan&', 'pancake', 'pans', 'paper', 'paper-lined', 'paprika', 'parchment', 'parm', 'parmesan', 'parsley', 'parsley:', 'part', 'part-skim', 'partially', 'partly', 'pasta', 'pastas', 'paste', 'pastry', 'pat', 'patient', 'pattern', 'patties', 'patty', 'pea', 'peaches', 'peaks', 'peanut', 'peanut&', 'peanuts', 'peas', 'pecans', 'peel', 'peeling', 'peels', 'penne', 'penne-potatoes', 'pepper', 'pepper&', 'peppercorns', 'peppermint', 'pepperoncini', 'pepperoni', 'peppers', 'peppery', 'per', 'perfect', 'personal', 'pesto', 'phyllo', 'picante', 'pick', 'pickle', 'pickled', 'pickles', 'pickling', 'picture', 'pie', 'piece', 'pieces', 'pierce', 'piercing', 'pile', 'piled', 'piloncillo', 'pimemto', 'pimiento', 'pinch', 'pinching', 'pineapple', 'pink', 'pit', 'pitcher', 'pizza', 'place', 'place\"lids\"', 'placing', 'plain', 'planning', 'plastic', 'plate', 'plates', 'platter', 'pleased', 'plenty', 'plums', 'plus', 'pods', 'point', 'point:', 'poke', 'poked', 'polaroid', 'polish', 'poppy', 'popsicle', 'pork', 'portion', 'portions', 'position', 'possible', 'pot', 'pot&', 'potato', 'potatoes', 'poultry', 'pound', 'pour', 'pouring', 'powder', 'powdered', 'power', 'pre-heat', 'pre-heated', 'prefer', 'preferably', 'preference', 'prego', 'preheat', 'preheated', 'preheats', 'prep', 'prepacked', 'preparation', 'prepare', 'prepared', 'preparing', 'presentation', 'presentation:', 'press', 'pretty', 'prevent', 'previously', 'prick', 'pricked', 'prior', 'proceed', 'process', 'processor', 'produced', 'promptly', 'proof', 'prop', 'protein', 'provolone&', 'pudding', 'puff', 'puffed', 'puffs', 'pull', 'pulling', 'pulp', 'pumpkin', 'pure', 'pured', 'puree', 'push', 'put', 'qt', 'quantity', 'quart', 'quarters', 'quarts', 'quick', 'quickly', 'quite', 'rack', 'racks', 'radishes', 'raise', 'raisins', 'ramen', 'rapidly', 'rare', 'rare--', 'rather\"frothy\"', 'ravioli', 'raw', 'reach', 'reached', 'reaching', 'reading', 'ready', 'really', 'recipe', 'recommend', 'reconstituted', 'records', 'rectangular', 'red', 'reduce', 'reduced', 'refrigerate', 'refrigerated', 'refrigerator', 'regular', 'regulate', 'reheat', 'rehydrate', 'relatively', 'release', 'released', 'relish', 'remain', 'remainder', 'remained', 'remaining', 'remains', 'remember', 'remove', 'removing', 'rendered', 'repeat', 'required', 'resealable', 'resembles', 'reserve', 'reserved', 'reserving', 'resift', 'rest', 'results', 'retain', 'retiring', 'return', 'returned', 'returning', 'reward', 'ribs', 'rice', 'richer', 'richly', 'ricotta', 'right', 'rind', 'ring', 'rings', 'rinse', 'rinsed-out', 'ripple', 'rise', 'risen', 'roast', \"roast's\", 'roasted', 'roaster', 'roasting', 'rocks', 'roll', 'rolling', 'rolls', 'romaine', 'romano', 'room', 'root', 'rosemary', 'rotating', 'round', 'rounded', 'rounds', 'rub', 'rubber', 'run', 'running', 'runny', 'rye', 's&', 'sage', 'sak', 'salad', 'salad:', 'salmon', 'salmon:', 'salsa', 'salt', 'salt&', 'salted', 'saltiness', 'salty', 'sambal', 'same', 'sandwich', 'sandwiches', 'sauce', 'sauce#1', 'sauce#2', 'sauce:', 'saucepan', 'saucepot', 'sauces', 'sausage', 'saut', 'saute', 'sauted', 'sautee', 'sauteed', 'says', 'scale', 'scallions', 'scant', 'scatter', 'scoop', 'scorches', 'score', 'scramble', 'scrape', 'scraping', 'seafood', 'seal', 'sear', 'seas', 'season', 'seasoned', 'seasoning', 'seasonings', 'sec', 'second', 'second-lowest', 'seconds', 'secret', 'section', 'see', 'seed', 'seeds', 'seems', 'seep', 'sells', 'semi-sweet', 'separate', 'serrated', 'serve', 'served', 'serving', 'servings', 'sesame', 'set', 'sets', 'setting', 'several', 'shake', 'shaken', 'shaking', 'shallots', 'shallow', 'shape', 'shaped', 'shapes', 'sharp', 'shaved', 'sheet', 'sheets', 'shell', 'shells', 'sherbet', 'sherry', 'shield', 'shiny', 'shortbread', 'shortening', 'should', 'shred', 'shredded', 'shrimp', 'shrink', 'shuck', 'side', 'sides', 'sift', 'sifted', 'silks', 'simmer', 'simmered', 'simmering', 'simply', 'single', 'sink', 'sip', 'sit', 'six', 'size', 'sized', 'sizzle', 'skewer', 'skewers', 'skillet', 'skim', 'skimming', 'skin', 'skins', 'slice', 'sliced', 'slices', 'slicing', 'slightly', 'slow', 'slowest', 'slowly', 'small', 'smaller', 'smear', 'smell', 'smile', 'smoke', 'smoked', 'smoking', 'smooth', 'smoothie', 'smoothness', 'snacked', 'snap', 'so', 'soak', 'soaked', 'soda', 'soft', 'soften', 'softened', 'soggy', 'solid', 'some', 'sometimes', 'soon', 'sorbet', 'sorghum', 'sort', 'sorts', 'sounds', 'soup', 'soup:', 'sour', 'soy', 'soya', 'space', 'spaces', 'spaghetti', 'spatula', 'speed', 'spice', 'spices', 'spicy', 'spinach', 'splash', 'splattering', 'splenda', 'split', 'spoon', 'spoonfuls', 'spooning', 'spot', 'spray', 'sprayed', 'spraying', 'spread', 'spread\"alouette\"', 'spread:', 'spreadable', 'spreading', 'sprigs', 'spring-form', 'springform', 'springs', 'sprinkle', 'sprouts', 'spuds', 'sputtering', 'square', 'squares', 'squash', 'squeeze', 'squeezing', 'squish', 'stack', 'stand', 'star', 'staring', 'start', 'starter', 'starting', 'starts', 'stated', 'stay', 'stays', 'steadily', 'steak', 'steam', 'steaming', 'steel', 'steep', 'stems', 'step', 'sterilised', 'sterilized', 'stew', 'stewed', 'stick', 'sticking', 'sticky', 'stickyness', 'still', 'stir', 'stirring', 'stock', 'stocks', 'stop', 'store', 'stored', 'stores', 'stove', 'stovetop', 'strain', 'strainer', 'strands', 'strawberries', 'strawberry', 'stream', 'strikes', 'strings', 'strip', 'strips', 'strussel', 'studded', 'stuff', 'stuffed', 'subside', 'substance', 'substantially', 'substitute', 'such', 'sugar', 'sugar-butter', 'sugars', 'suggested', 'suggestions:', 'suitable', 'sunflower', 'sure', 'surface', 'sweat', 'sweet', 'sweetened', 'sweetener', 'swirl', 'swiss', 'syrup', 't', 'tabasco', 'table', 'tablespoon', 'tablespoons', 'taco', 'tahini', 'tail', 'take', 'taken', 'takes', 'taking', 'tapped', 'taste', 'tastes', 'taught', 'tb', 'tbl', 'tbs', 'tbsp', 'tbspfuls', 'tbsps', 'tea', 'tear', 'tearing', 'teaspoon', 'teaspoonful', 'teaspoons', 'temp', 'tempeh', 'temperature', 'temperatures', 'tender', 'tent', 'tentacles', 'tentacls', 'tequila', 'teriyaki', 'test', 'tester', 'testing', 'texture', 'textured', 'than', 'that', \"that's\", 'thaw', 'thawed', 'the', 'the\"alouette\"', 'the\"bottom', 'the\"cake\"', 'the\"fifth', 'the\"first', 'the\"tenth', 'their', 'them', 'theme:', 'then', 'there', 'thermometer', 'these', 'they', \"they'll\", 'thick', 'thicken', 'thickened', 'thickens', 'thicker', 'thickly', 'thickness', 'thin', 'think', 'thinly', 'thinner', 'third', 'this', 'thoroughly', 'those', 'thread', 'three', 'throat', 'through', 'throughout', 'thyme', 'tightly', 'til', 'till', 'time', 'times', 'tin', 'tins', 'to', \"to'seal\", 'toast', 'toasted', 'tofu', 'tog', 'together', 'together-', 'tomato', 'tomatoes', 'tongs', 'tongue', 'too', 'tooth', 'toothpick', 'top', 'toped', 'topping', 'topping:', 'tops', 'torillla', 'tortillas', 'toss', 'tossing', 'tostito', 'tostitos', 'totally', 'totaly', 'touch', 'touched', 'touching', 'tough', 'toward', 'towel', 'towels', 'traditionally', 'transfer', 'translucent', 'tray', 'triangles', 'triple', 'trivet', 'trussing', 'try', 'tsp', 'tube', 'tuck', 'tucking', 'tumble', 'tuna', 'tupperware', 'turkey', 'turmeric', 'turn', 'turned', 'turned-off', 'turning', 'turns', 'tvp', 'twenty', 'twice', 'two', 'two-thirds', 'type', 'typically', 'un-greased', 'uncooked', 'uncover', 'uncovered', 'under', 'underneath', 'underside', 'understanding', 'undiluted', 'undisturbed', 'ungreased', 'uniform', 'uniformly', 'universally', 'unnecessary', 'unsalted', 'until', 'unwrap', 'up', 'up\"', 'upon', 'use', \"use'old'\", 'used', 'uses', 'using', 'usual', 'usually', 'vacuum', 'vanilla', 'variant', 'variety', 'vary', 'varying', 'veal', 'veg', 'vegan', 'vegetable', 'vegetables', 'vegetarian', 'veggies', 'velveeta', 'venison', 'version', 'very', 'vessel', 'vigorously', 'vinegar', 'w', 'wafer', 'wafers', 'wafts', 'wait', 'waiting', 'walnuts', 'want', 'warm', 'warmed', 'was', 'wash', 'water', 'wax', 'waxed', 'way', 'we', 'wedge', 'wedge&', 'wedges', 'weed', 'week', 'weeks', 'well', 'well&', 'well-coated', 'were', 'wet', 'whatever', 'wheat', 'when', 'where', 'whether', 'whey', 'which', 'while', 'whip', 'whipped', 'whisk', 'whiskey', 'whisking', 'white', 'whites', 'whole', 'why', 'wiggle', 'wild', 'will', 'wilt', 'wilted', 'wine', 'wipe', 'wire', 'wish', 'with', 'within', 'without', 'wok', \"won't\", 'wonderful', 'wondra', 'wont', 'wooden', 'worcestershire', 'working', 'worry', 'would', 'wrap', 'wrapped', 'wrapper', 'x', 'x8\"', 'yams', 'years', 'yeast', 'yellow', 'yet', 'yoghurt', 'yogurt', 'yolk', 'yolks', 'you', \"you'll\", \"you're\", 'your', 'yourself', 'yummmy', 'zest', 'zip-lock', 'ziploc', 'zipperbag', 'zucchini']\n"
          ]
        }
      ]
    },
    {
      "cell_type": "markdown",
      "metadata": {
        "id": "qJh8_DMkfcUk"
      },
      "source": [
        "# Process Dataset"
      ]
    },
    {
      "cell_type": "markdown",
      "metadata": {
        "id": "no-RC4T2fgIN"
      },
      "source": [
        "## Vectorize the Text\n",
        "Before feeding the text to our RNN we need to convert the text from a sequence of characters to a sequence of numbers. To do so we will detect all unique characters in the text, form a vocabulary out of it and replace each character with its index in the vocabulary."
      ]
    },
    {
      "cell_type": "code",
      "execution_count": 6,
      "metadata": {
        "colab": {
          "base_uri": "https://localhost:8080/"
        },
        "id": "Z_ukCNk4nbmI",
        "outputId": "df6d2629-a6f9-49a1-a2bb-f3c81e8df7b0"
      },
      "outputs": [
        {
          "output_type": "stream",
          "name": "stdout",
          "text": [
            "{\n",
            "  ''  :   0,\n",
            "  '\\n':   1,\n",
            "  '!' :   2,\n",
            "  '\"caramalized\"':   3,\n",
            "  '\"dress':   4,\n",
            "  '\"dry\"':   5,\n",
            "  '\"dust\"':   6,\n",
            "  '\"high\"':   7,\n",
            "  '\"hold\"in':   8,\n",
            "  '\"low\"':   9,\n",
            "  '\"naked\"':  10,\n",
            "  '\"wet\"':  11,\n",
            "  '&' :  12,\n",
            "  \"'bed'\":  13,\n",
            "  \"'my\":  14,\n",
            "  '(if':  15,\n",
            "  ',' :  16,\n",
            "  '-' :  17,\n",
            "  '--':  18,\n",
            "  '-inch':  19,\n",
            "  ...\n",
            "}\n",
            "['' '\\n' '!' ... 'ziploc' 'zipperbag' 'zucchini']\n",
            "text_as_int length: 27782\n",
            "(make a choice a)->([1185, 171, 487, 225, 1545, 2212, 1593, 1, 665, 1356, 1788, 1342, 1876, 16, 633])\n"
          ]
        }
      ],
      "source": [
        "# Map characters to their indices in vocabulary.\n",
        "word2index = {word: index for index, word in enumerate(vocab)}\n",
        "\n",
        "print('{')\n",
        "for word, _ in zip(word2index, range(20)):\n",
        "    print('  {:4s}: {:3d},'.format(repr(word), word2index[word]))\n",
        "print('  ...\\n}')\n",
        "\n",
        "# Map character indices to characters from vacabulary.\n",
        "index2char = np.array(vocab)\n",
        "print(index2char)\n",
        "\n",
        "# Convert chars in text to indices.\n",
        "df['steps_int'] = df['steps'].apply(lambda x: [word2index[word] for word in x.replace(\"\\n\", \" \\n \").split(sep=\" \")])\n",
        "text_as_int = df['steps_int'].explode().reset_index(drop=True).tolist()\n",
        "\n",
        "print(f'text_as_int length: {len(text_as_int)}')\n",
        "print(f'({all_steps_text[:15]})->({text_as_int[:15]})')"
      ]
    },
    {
      "cell_type": "markdown",
      "metadata": {
        "id": "B--pveIpuwT9"
      },
      "source": [
        "# Create training sequences"
      ]
    },
    {
      "cell_type": "code",
      "execution_count": 7,
      "metadata": {
        "colab": {
          "base_uri": "https://localhost:8080/"
        },
        "id": "elL6b02AuxhU",
        "outputId": "c17bec0c-c81f-4ff2-b3ed-f613d5ef8b91"
      },
      "outputs": [
        {
          "output_type": "stream",
          "name": "stdout",
          "text": [
            "make\n",
            "a\n",
            "choice\n",
            "and\n",
            "proceed\n",
            "make a choice and proceed with recipe \n",
            " depending on size of squash , cut into half or fourths \n",
            " remove seeds \n",
            " for spicy squash , drizzle olive oil or melted butter over each cut squash piece \n",
            " season with mexican seasoning mix ii \n",
            " for sweet squash , drizzle melted honey , butter , grated piloncillo over each cut squash piece \n",
            " season with sweet mexican spice mix \n",
            " bake at 350 degrees , again depending on size , for 40 minutes up to an hour , until a fork can easily pierce the skin \n",
            " be careful not\n",
            "to burn the squash especially if you opt to use sugar or butter \n",
            " if you feel more comfortable , cover the squash with aluminum foil the first half hour , give or take , of baking \n",
            " if desired , season with salt \n",
            "  preheat oven to 425 degrees f \n",
            " press dough into the bottom and sides of a 12 inch pizza pan \n",
            " bake for 5 minutes until set but not browned \n",
            " cut sausage into small pieces \n",
            " whisk eggs and milk in a bowl until frothy \n",
            " spoon sausage over baked crust and sprinkle with\n",
            "cheese \n",
            " pour egg mixture slowly over sausage and cheese \n",
            " s& p to taste \n",
            " bake 15-20 minutes or until eggs are set and crust is brown \n",
            "  brown ground beef in large pot \n",
            " add chopped onions to ground beef when almost brown and sautee until wilted \n",
            " add all other ingredients \n",
            " add kidney beans if you like beans in your chili \n",
            " cook in slow cooker on high for 2-3 hours or 6-8 hours on low \n",
            " serve with cold clean lettuce and shredded cheese \n",
            "  place potatoes in a large pot of lightly salted\n",
            "water and bring to a gentle boil \n",
            " cook until potatoes are just tender \n",
            " drain \n",
            " place potatoes in a large bowl and add all ingredients except the\"alouette\" \n",
            " mix well and transfer to a buttered 8x8 inch glass baking dish with 2 inch sides \n",
            " press the potatoes with a spatula to make top as flat as possible \n",
            " set aside for 2 hours at room temperature \n",
            " preheat oven to 350^f \n",
            " spread\"alouette\" evenly over potatoes and bake 15 minutes \n",
            " divide between plates \n",
            " garnish with finely diced red and yellow bell peppers \n",
            "  mix all\n",
            "ingredients& boil for 2 1 / 2 hours , or until thick \n",
            " pour into jars \n",
            " i use'old' glass ketchup bottles \n",
            " it is not necessary for these to'seal \n",
            " 'my amish mother-in-law has been making this her entire life , and has never used a'sealed' jar for this recipe , and it's always been great ! \n",
            "  combine ingredients in blender \n",
            " cover and blend until smooth \n",
            " sprinkle with ground cinnamon \n",
            " makes about 2 cups \n",
            "  toast the fennel seeds and lightly crush them \n",
            " place all the ingredients in a bowl , stir well\n"
          ]
        }
      ],
      "source": [
        "# # Convert the pandas DataFrame to a tf.data.Dataset\n",
        "sub_text_as_int = df['steps_int'].explode().reset_index(drop=True).tolist()\n",
        "# steps_list = sub_df['steps_int'].tolist()\n",
        "\n",
        "# # Find the maximum length in the list\n",
        "# max_length = max(len(x) for x in steps_list)\n",
        "\n",
        "# # Pad the lists to the maximum length\n",
        "# padded_steps_list = [x + [0] * (max_length - len(x)) for x in steps_list]\n",
        "\n",
        "# Create a TensorFlow dataset from the padded list\n",
        "# chunk_size = 32\n",
        "dataset = tf.data.Dataset.from_tensor_slices(sub_text_as_int)\n",
        "\n",
        "for char in dataset.take(5):\n",
        "    print(index2char[char.numpy()])\n",
        "\n",
        "# make sequences\n",
        "sequence_length = 100\n",
        "dataset = dataset.batch(sequence_length+1, drop_remainder=True)\n",
        "\n",
        "for item in dataset.take(5):\n",
        "  print(' '.join(index2char[item.numpy()]))"
      ]
    },
    {
      "cell_type": "code",
      "execution_count": 8,
      "metadata": {
        "colab": {
          "base_uri": "https://localhost:8080/"
        },
        "id": "mw375ZA01tIE",
        "outputId": "1c3089fb-e94f-4a47-ebec-7f101513057b"
      },
      "outputs": [
        {
          "output_type": "stream",
          "name": "stdout",
          "text": [
            "dataset size: 275\n",
            "Input sequence size: 100\n",
            "Input sequence size: 100\n",
            "\n",
            "Input: makeachoiceandproceedwithrecipe\n",
            "dependingonsizeofsquash,cutintohalforfourths\n",
            "removeseeds\n",
            "forspicysquash,drizzleoliveoilormeltedbutterovereachcutsquashpiece\n",
            "seasonwithmexicanseasoningmixii\n",
            "forsweetsquash,drizzlemeltedhoney,butter,gratedpiloncilloovereachcutsquashpiece\n",
            "seasonwithsweetmexicanspicemix\n",
            "bakeat350degrees,againdependingonsize,for40minutesuptoanhour,untilaforkcaneasilypiercetheskin\n",
            "becareful\n",
            "Target: achoiceandproceedwithrecipe\n",
            "dependingonsizeofsquash,cutintohalforfourths\n",
            "removeseeds\n",
            "forspicysquash,drizzleoliveoilormeltedbutterovereachcutsquashpiece\n",
            "seasonwithmexicanseasoningmixii\n",
            "forsweetsquash,drizzlemeltedhoney,butter,gratedpiloncilloovereachcutsquashpiece\n",
            "seasonwithsweetmexicanspicemix\n",
            "bakeat350degrees,againdependingonsize,for40minutesuptoanhour,untilaforkcaneasilypiercetheskin\n",
            "becarefulnot\n",
            "Step  0\n",
            "  input: 1185 (make)\n",
            "  expected output: 171 (a)\n",
            "Step  1\n",
            "  input: 171 (a)\n",
            "  expected output: 487 (choice)\n",
            "Step  2\n",
            "  input: 487 (choice)\n",
            "  expected output: 225 (and)\n",
            "Step  3\n",
            "  input: 225 (and)\n",
            "  expected output: 1545 (proceed)\n",
            "Step  4\n",
            "  input: 1545 (proceed)\n",
            "  expected output: 2212 (with)\n"
          ]
        }
      ],
      "source": [
        "def split_input_target(chunk):\n",
        "    input_text = chunk[:-1] # input_text = chunk[:, :-1]\n",
        "    target_text = chunk[1:] # target_text = chunk[:, 1:]\n",
        "    return input_text, target_text\n",
        "\n",
        "    # return input_text, target_text\n",
        "\n",
        "dataset = dataset.map(split_input_target)\n",
        "\n",
        "# Dataset size is the same as examples_per_epoch.\n",
        "# But each element of a sequence is now has length of `sequence_length`\n",
        "# and not `sequence_length + 1`.\n",
        "print('dataset size: {}'.format(len(list(dataset.as_numpy_iterator()))))\n",
        "\n",
        "for input_example, target_example in dataset.take(1):\n",
        "    print(f'Input sequence size: {len(input_example.numpy())}')\n",
        "    print(f'Input sequence size: {len(target_example.numpy())}')\n",
        "    print()\n",
        "    print('Input: ' + ''.join(str(index2char[i]) for i in input_example.numpy()))\n",
        "    print('Target: ' + ''.join(str(index2char[i]) for i in target_example.numpy()))\n",
        "\n",
        "for i, (input_idx, target_idx) in enumerate(zip(input_example[:5], target_example[:5])):\n",
        "    print('Step {:2d}'.format(i))\n",
        "    print(f'  input: {input_idx} ({index2char[input_idx]})')\n",
        "    print(f'  expected output: {target_idx} ({index2char[target_idx]})')"
      ]
    },
    {
      "cell_type": "markdown",
      "metadata": {
        "id": "ZV01AZHQBhXq"
      },
      "source": [
        "# Build the Model"
      ]
    },
    {
      "cell_type": "code",
      "execution_count": 9,
      "metadata": {
        "colab": {
          "base_uri": "https://localhost:8080/",
          "height": 690
        },
        "id": "FpkICa8JB7Cn",
        "outputId": "8998383d-676f-4d48-f969-a164cf595d66"
      },
      "outputs": [
        {
          "output_type": "stream",
          "name": "stdout",
          "text": [
            "Model: \"sequential\"\n",
            "_________________________________________________________________\n",
            " Layer (type)                Output Shape              Param #   \n",
            "=================================================================\n",
            " embedding (Embedding)       (64, None, 256)           576000    \n",
            "                                                                 \n",
            " lstm (LSTM)                 (64, None, 1024)          5246976   \n",
            "                                                                 \n",
            " dense (Dense)               (64, None, 2250)          2306250   \n",
            "                                                                 \n",
            "=================================================================\n",
            "Total params: 8129226 (31.01 MB)\n",
            "Trainable params: 8129226 (31.01 MB)\n",
            "Non-trainable params: 0 (0.00 Byte)\n",
            "_________________________________________________________________\n"
          ]
        },
        {
          "output_type": "execute_result",
          "data": {
            "image/png": "[encoded data removed]",
            "text/plain": [
              "<IPython.core.display.Image object>"
            ]
          },
          "metadata": {},
          "execution_count": 9
        }
      ],
      "source": [
        "# Define the batch size\n",
        "batch_size = 64\n",
        "\n",
        "# Batch the dataset\n",
        "dataset = dataset.batch(batch_size, drop_remainder=True)\n",
        "\n",
        "# Length of the vocabulary in chars.\n",
        "vocab_size = len(vocab)\n",
        "\n",
        "# The embedding dimension.\n",
        "embedding_dim = 256\n",
        "\n",
        "# Number of RNN units.\n",
        "rnn_units = 1024\n",
        "\n",
        "def build_model(vocab_size, embedding_dim, rnn_units, batch_size):\n",
        "    model = tf.keras.models.Sequential()\n",
        "\n",
        "    model.add(tf.keras.layers.Embedding(\n",
        "      input_dim=vocab_size,\n",
        "      output_dim=embedding_dim,\n",
        "      batch_input_shape=[batch_size, None]\n",
        "    ))\n",
        "\n",
        "    model.add(tf.keras.layers.LSTM(\n",
        "      units=rnn_units,\n",
        "      return_sequences=True,\n",
        "      stateful=True,\n",
        "      recurrent_initializer=tf.keras.initializers.GlorotNormal()\n",
        "    ))\n",
        "\n",
        "    model.add(tf.keras.layers.Dense(vocab_size))\n",
        "\n",
        "    return model\n",
        "\n",
        "model = build_model(vocab_size, embedding_dim, rnn_units, batch_size)\n",
        "model.summary()\n",
        "\n",
        "tf.keras.utils.plot_model(\n",
        "    model,\n",
        "    show_shapes=True,\n",
        "    show_layer_names=True,\n",
        ")"
      ]
    },
    {
      "cell_type": "markdown",
      "metadata": {
        "id": "YwnYG5XsFDHa"
      },
      "source": [
        "# *Test* the Model"
      ]
    },
    {
      "cell_type": "code",
      "execution_count": 10,
      "metadata": {
        "colab": {
          "base_uri": "https://localhost:8080/"
        },
        "id": "t6AK4rVMFbpj",
        "outputId": "c44136e9-443d-4665-cb1d-ab3e17e89493"
      },
      "outputs": [
        {
          "output_type": "stream",
          "name": "stdout",
          "text": [
            "(64, 100, 2250) # (batch_size, sequence_length, vocab_size)\n"
          ]
        }
      ],
      "source": [
        "for input_example_batch, target_example_batch in dataset.take(1):\n",
        "    example_batch_predictions = model(input_example_batch)\n",
        "    print(example_batch_predictions.shape, \"# (batch_size, sequence_length, vocab_size)\")"
      ]
    },
    {
      "cell_type": "code",
      "execution_count": 11,
      "metadata": {
        "colab": {
          "base_uri": "https://localhost:8080/"
        },
        "id": "aNP2KjyweUly",
        "outputId": "816d21f0-c497-448b-ff97-cf91676a6143"
      },
      "outputs": [
        {
          "output_type": "stream",
          "name": "stdout",
          "text": [
            "Prediction for the 1st letter of the batch 1st sequense:\n",
            "tf.Tensor(\n",
            "[-0.00125457 -0.00039627  0.00075157 ...  0.00119111 -0.00082035\n",
            " -0.00086959], shape=(2250,), dtype=float32)\n"
          ]
        }
      ],
      "source": [
        "print('Prediction for the 1st letter of the batch 1st sequense:')\n",
        "print(example_batch_predictions[0, 0])"
      ]
    },
    {
      "cell_type": "markdown",
      "metadata": {
        "id": "Dsgzq0cQG_iR"
      },
      "source": [
        "# Train the model"
      ]
    },
    {
      "cell_type": "code",
      "execution_count": 12,
      "metadata": {
        "colab": {
          "base_uri": "https://localhost:8080/"
        },
        "id": "gnDqLeBMG_TR",
        "outputId": "026193aa-308a-4f48-d730-1d60491c1186"
      },
      "outputs": [
        {
          "output_type": "stream",
          "name": "stdout",
          "text": [
            "Prediction shape:  (64, 100, 2250)  # (batch_size, sequence_length, vocab_size)\n",
            "scalar_loss:       7.718809\n"
          ]
        }
      ],
      "source": [
        "# An objective function.\n",
        "# The function is any callable with the signature scalar_loss = fn(y_true, y_pred).\n",
        "def loss(labels, logits):\n",
        "    return tf.keras.losses.sparse_categorical_crossentropy(\n",
        "      y_true=labels,\n",
        "      y_pred=logits,\n",
        "      from_logits=True\n",
        "    )\n",
        "\n",
        "example_batch_loss = loss(target_example_batch, example_batch_predictions)\n",
        "\n",
        "print(\"Prediction shape: \", example_batch_predictions.shape, \" # (batch_size, sequence_length, vocab_size)\")\n",
        "print(\"scalar_loss:      \", example_batch_loss.numpy().mean())\n",
        "\n",
        "adam_optimizer = tf.keras.optimizers.Adam(learning_rate=0.001)\n",
        "model.compile(\n",
        "    optimizer=adam_optimizer,\n",
        "    loss=loss\n",
        ")"
      ]
    },
    {
      "cell_type": "markdown",
      "metadata": {
        "id": "lezVCPeCHTRi"
      },
      "source": [
        "# Configure Checkpoints"
      ]
    },
    {
      "cell_type": "code",
      "execution_count": 13,
      "metadata": {
        "id": "2rDyIBVgHZ-K"
      },
      "outputs": [],
      "source": [
        "# Directory where the checkpoints will be saved.\n",
        "checkpoint_dir = 'tmp/checkpoints'\n",
        "os.makedirs(checkpoint_dir, exist_ok=True)\n",
        "\n",
        "# Name of the checkpoint files\n",
        "checkpoint_prefix = os.path.join(checkpoint_dir, 'ckpt_{epoch}')\n",
        "\n",
        "checkpoint_callback=tf.keras.callbacks.ModelCheckpoint(\n",
        "    filepath=checkpoint_prefix,\n",
        "    save_weights_only=True\n",
        ")"
      ]
    },
    {
      "cell_type": "markdown",
      "metadata": {
        "id": "rr9XQONpHcbW"
      },
      "source": [
        "# Execute the training"
      ]
    },
    {
      "cell_type": "code",
      "execution_count": 14,
      "metadata": {
        "colab": {
          "base_uri": "https://localhost:8080/"
        },
        "id": "joseyLmKHeec",
        "outputId": "3bd3d276-eced-4c74-8715-18f9d044b546"
      },
      "outputs": [
        {
          "output_type": "stream",
          "name": "stdout",
          "text": [
            "Input data shape: (64, 100)\n",
            "Labels shape: (64, 100)\n",
            "Epoch 1/40\n",
            "4/4 [==============================] - 46s 11s/step - loss: 7.4518\n",
            "Epoch 2/40\n",
            "4/4 [==============================] - 46s 11s/step - loss: 5.9513\n",
            "Epoch 3/40\n",
            "4/4 [==============================] - 40s 10s/step - loss: 5.8248\n",
            "Epoch 4/40\n",
            "4/4 [==============================] - 43s 11s/step - loss: 5.7657\n",
            "Epoch 5/40\n",
            "4/4 [==============================] - 40s 10s/step - loss: 5.7440\n",
            "Epoch 6/40\n",
            "4/4 [==============================] - 39s 10s/step - loss: 5.7271\n",
            "Epoch 7/40\n",
            "4/4 [==============================] - 39s 10s/step - loss: 5.7166\n",
            "Epoch 8/40\n",
            "4/4 [==============================] - 41s 10s/step - loss: 5.7048\n",
            "Epoch 9/40\n",
            "4/4 [==============================] - 40s 10s/step - loss: 5.6911\n",
            "Epoch 10/40\n",
            "4/4 [==============================] - 40s 10s/step - loss: 5.6745\n",
            "Epoch 11/40\n",
            "4/4 [==============================] - 39s 10s/step - loss: 5.6535\n",
            "Epoch 12/40\n",
            "4/4 [==============================] - 40s 10s/step - loss: 5.6259\n",
            "Epoch 13/40\n",
            "4/4 [==============================] - 42s 10s/step - loss: 5.5900\n",
            "Epoch 14/40\n",
            "4/4 [==============================] - 40s 10s/step - loss: 5.5471\n",
            "Epoch 15/40\n",
            "4/4 [==============================] - 40s 10s/step - loss: 5.4974\n",
            "Epoch 16/40\n",
            "4/4 [==============================] - 39s 10s/step - loss: 5.4426\n",
            "Epoch 17/40\n",
            "4/4 [==============================] - 40s 10s/step - loss: 5.3848\n",
            "Epoch 18/40\n",
            "4/4 [==============================] - 40s 10s/step - loss: 5.3260\n",
            "Epoch 19/40\n",
            "4/4 [==============================] - 39s 10s/step - loss: 5.2685\n",
            "Epoch 20/40\n",
            "4/4 [==============================] - 39s 10s/step - loss: 5.2125\n",
            "Epoch 21/40\n",
            "4/4 [==============================] - 44s 11s/step - loss: 5.1579\n",
            "Epoch 22/40\n",
            "4/4 [==============================] - 39s 10s/step - loss: 5.1038\n",
            "Epoch 23/40\n",
            "4/4 [==============================] - 39s 10s/step - loss: 5.0495\n",
            "Epoch 24/40\n",
            "4/4 [==============================] - 39s 10s/step - loss: 4.9948\n",
            "Epoch 25/40\n",
            "4/4 [==============================] - 40s 10s/step - loss: 4.9405\n",
            "Epoch 26/40\n",
            "4/4 [==============================] - 42s 11s/step - loss: 4.8852\n",
            "Epoch 27/40\n",
            "4/4 [==============================] - 40s 10s/step - loss: 4.8296\n",
            "Epoch 28/40\n",
            "4/4 [==============================] - 40s 10s/step - loss: 4.7749\n",
            "Epoch 29/40\n",
            "4/4 [==============================] - 41s 10s/step - loss: 4.7213\n",
            "Epoch 30/40\n",
            "4/4 [==============================] - 39s 10s/step - loss: 4.6694\n",
            "Epoch 31/40\n",
            "4/4 [==============================] - 40s 10s/step - loss: 4.6179\n",
            "Epoch 32/40\n",
            "4/4 [==============================] - 40s 10s/step - loss: 4.5696\n",
            "Epoch 33/40\n",
            "4/4 [==============================] - 40s 10s/step - loss: 4.5212\n",
            "Epoch 34/40\n",
            "4/4 [==============================] - 39s 10s/step - loss: 4.4704\n",
            "Epoch 35/40\n",
            "4/4 [==============================] - 39s 10s/step - loss: 4.4247\n",
            "Epoch 36/40\n",
            "4/4 [==============================] - 41s 10s/step - loss: 4.3814\n",
            "Epoch 37/40\n",
            "4/4 [==============================] - 39s 10s/step - loss: 4.3316\n",
            "Epoch 38/40\n",
            "4/4 [==============================] - 39s 10s/step - loss: 4.2849\n",
            "Epoch 39/40\n",
            "4/4 [==============================] - 45s 10s/step - loss: 4.2245\n",
            "Epoch 40/40\n",
            "4/4 [==============================] - 40s 10s/step - loss: 4.1685\n"
          ]
        }
      ],
      "source": [
        "for input_data, labels in dataset.take(1):\n",
        "    print(\"Input data shape:\", input_data.shape)\n",
        "    print(\"Labels shape:\", labels.shape)\n",
        "\n",
        "EPOCHS=40\n",
        "\n",
        "history = model.fit(\n",
        "  x=dataset,\n",
        "  epochs=EPOCHS,\n",
        "  callbacks=[\n",
        "    checkpoint_callback\n",
        "  ]\n",
        ")"
      ]
    },
    {
      "cell_type": "code",
      "execution_count": 15,
      "metadata": {
        "id": "nRKDU4hSzkHN",
        "colab": {
          "base_uri": "https://localhost:8080/",
          "height": 472
        },
        "outputId": "b0e93c8e-645c-4ea5-e764-a0b032fe0a17"
      },
      "outputs": [
        {
          "output_type": "display_data",
          "data": {
            "text/plain": [
              "<Figure size 640x480 with 1 Axes>"
            ],
            "image/png": "[encoded data removed]"
          },
          "metadata": {}
        }
      ],
      "source": [
        "def render_training_history(training_history):\n",
        "    loss = training_history.history['loss']\n",
        "    plt.title('Loss')\n",
        "    plt.xlabel('Epoch')\n",
        "    plt.ylabel('Loss')\n",
        "    plt.plot(loss, label='Training set')\n",
        "    plt.legend()\n",
        "    plt.grid(linestyle='--', linewidth=1, alpha=0.5)\n",
        "    plt.show()\n",
        "render_training_history(history)"
      ]
    },
    {
      "cell_type": "markdown",
      "metadata": {
        "id": "9M8f-O_tzus5"
      },
      "source": [
        "# Generate text"
      ]
    },
    {
      "cell_type": "code",
      "execution_count": 16,
      "metadata": {
        "colab": {
          "base_uri": "https://localhost:8080/"
        },
        "id": "6w4m5CXPzq7j",
        "outputId": "420a0eee-7f01-4944-9ba3-5d0375b98938"
      },
      "outputs": [
        {
          "output_type": "stream",
          "name": "stdout",
          "text": [
            "Model: \"sequential_1\"\n",
            "_________________________________________________________________\n",
            " Layer (type)                Output Shape              Param #   \n",
            "=================================================================\n",
            " embedding_1 (Embedding)     (1, None, 256)            576000    \n",
            "                                                                 \n",
            " lstm_1 (LSTM)               (1, None, 1024)           5246976   \n",
            "                                                                 \n",
            " dense_1 (Dense)             (1, None, 2250)           2306250   \n",
            "                                                                 \n",
            "=================================================================\n",
            "Total params: 8129226 (31.01 MB)\n",
            "Trainable params: 8129226 (31.01 MB)\n",
            "Non-trainable params: 0 (0.00 Byte)\n",
            "_________________________________________________________________\n"
          ]
        }
      ],
      "source": [
        "checkpoint_dir = 'tmp/checkpoints'\n",
        "\n",
        "tf.train.latest_checkpoint(checkpoint_dir)\n",
        "\n",
        "simplified_batch_size = 1\n",
        "\n",
        "model = build_model(vocab_size, embedding_dim, rnn_units, batch_size=1)\n",
        "\n",
        "model.load_weights(tf.train.latest_checkpoint(checkpoint_dir))\n",
        "\n",
        "model.build(tf.TensorShape([simplified_batch_size, None]))\n",
        "\n",
        "model.summary()"
      ]
    },
    {
      "cell_type": "code",
      "execution_count": 25,
      "metadata": {
        "colab": {
          "base_uri": "https://localhost:8080/"
        },
        "id": "0SGc92gG0pXk",
        "outputId": "ce0c93f1-c6c7-4726-8eda-29dc1c3c2b8a"
      },
      "outputs": [
        {
          "output_type": "stream",
          "name": "stdout",
          "text": [
            "1. start by battered gravy: vegetarian filling and thinly if cook into cookie of and squeeze remaining pickles ! \n",
            "1. add the creamed are peanuts to each roll several meat \n",
            "2. add all on 2 cutlets mallet \n",
            "3. / sure burgers , or until chocolate of clean \n",
            "4. drain with 400 , and a 4 \n",
            "5. like all the and peanuts oil and occasionally with pesto a hang combine out center \n",
            "6. slowly coat carrots , about 10 minutes or until sauce \n",
            "7. add a cream uncovered or each brown cheese makes the produced bowl , mix well \n",
            "8.  preheat oven to scramble them ingredients or until with acid-proof of water \n",
            "9. blend in a thin melt the ball the lettuce in a cake \n",
            "10. remove all pan and one at 2 simmer entire popsicle pan \n",
            "11. add ooze into approximately wooden boil until top , add to 45 sauce \n",
            "12. put well \n",
            "13. mix sugar and spread with ingredients in fork water bottles into the oven and baby kind \n",
            "14. turn all the noodles of 200 squares blended \n",
            "15. stir for the margarine \n",
            "16. spray immediately \n",
            "17. add cilantro and be rest of choice to a 2 want \n",
            "18. cool until green pans until hot towels \n",
            "19. stir over the other dressing: mix and you hole in a large greased chopped open oven to taste towels or broth and set chestnuts \n",
            "20. drizzle make chops into vegetarian or or the meatballs suitable pulp where  add to paper slices biscuits with low mix it \n",
            "21. top with with rice or heated and very 20 minutes , but slice together and tomato , french heavy butter \n",
            "22. cook for half water , onions , totaly frequently , to boil \n",
            "23. cook occasionally for crumble seeds of tender \n",
            "24. drain just regular soda and slightly , onion , rind \n",
            "25. cook and poke 3 clean \n",
            "26. beat the refrigerate over the bowl , deglaze oven , as the package , using bread and soft , beat in medium cheese with 425 over the baking consistency \n",
            "27.  be get position to the pork scoop more ingredients to cheese is on spaghetti pan in flour , bread sauce , form balls water , cereal and break into oven \n",
            "28. bring to liquid on flavors or until a pudding dish or or depending the squares \n",
            "29. bake leftover partially taco bottles and bring to sauce#1 or the onions is melted and serve \n",
            "30. preheat oven to whipped cheese chocolate bacon , substantially , foil , add cheese \n",
            "31. pour , stirring pepper , stirring heat sauce \n",
            "32. freeze can cut all the butter , chili evenly \n",
            "33.  combine to garlic into a block of the nicely of french heat and pour it bean , croutons leaves in the filter cup of the 9 ! \n",
            "34. continue until mixing towels , coated with with cubes which slicing the slice fat \n",
            "35. top are dressing with taste \n",
            "36. chill \n",
            "37. add 3 / tablespoon texture \n",
            "38. spread until hour \n",
            "39. chop all marinade \n",
            "40. in the medium as the 50 minutes \n",
            "41. in an bottle oven and the cut \n",
            "42. bake at 45 minutes \n",
            "43. in the ketchup and fill 30 minutes if removing the sauces baking \n",
            "44. stir rolls \n",
            "45. spray between 3-4 size pan \n",
            "46.  heat into ready tbsp and pour with corn alternately in an single are won't cajun noodles \n",
            "47.  simmer flour \n",
            "48. stir in 3 hours mixture \n",
            "49. strain cheese on nuts \n",
            "50. roll is draft ! \n",
            "51. boiling pimemto when chili or until sugar and shake powder , can halfway well or has egg in a stovetop seed of the bottom cooler , sprinkle richer almond only down king cold and tender \n",
            "52. preheat one regular out and bake for 15 minutes \n",
            "53. let store for cool more side until hot are done mixed \n",
            "54. at 30 minutes \n",
            "55. add the bowl is the attire \n",
            "56. grill for ingredients to egg around an herb \n",
            "57. add the cheese seeds \n",
            "58. remove three not frost , if 8 seconds \n",
            "59.  chop the 9x5\" it every 30 minutes or until you beets to puffed and 350 aside \n",
            "60. slice smoking \n",
            "61. use it over bread cup so with pickled bits \n",
            "62. lime into a greased pan mixture \n",
            "63. let boil in other liquid \n",
            "64. spread the leeks cheese depending chives , and cook in a 7-quart bowl comes in fat thick \n",
            "65. stir aside , stirring occasionally facing is ! \n",
            "66. using a thicken up to large fruit per 2 pieces \n",
            "67. pour pasta lettuce mixture , orange can by have as spray \n",
            "68. let grill to 8 last like prepacked cup brown by bread plain , italian mixture \n",
            "69.  place tea degree or cake over the juice or tender \n",
            "70. if ham amount over pan , oats chestnuts in olive oil in soy slices , and water to low heat and rice \n",
            "71.  sausage oil in 5-10 / 2 inch plate \n",
            "72. simmer top into glass addition \n",
            "73. high about stand for 1 / 4 nine over ingredients inserted , salt , carrot , powdered the sugar , beef then set for 350: cup bowl: to a tomato and be more \n",
            "74. let 2 away \n",
            "75. store until strawberries and cream alternately with oil \n",
            "76. let 2 sugar , until rest of ingredients , about necessary as tea this or until the is of 2-3 clean \n",
            "77.  heat in fruit , sugar and salt& cover \n",
            "78. place the high heat and almost circle as your ganache \n",
            "79. ladle half the skin well \n",
            "80. cool into grill \n",
            "81.  heat to stir in the cake the whole shrink add them on a pie sheet of the heated by chef sauce oil in each color \n",
            "82. in a bowl and oats , rather\"frothy\" remaining just pile cheese and hot cottage and peppers \n",
            "83. place sugar and pepper , brown pepper , date chestnuts , oats and egg\n"
          ]
        }
      ],
      "source": [
        "# num_generate\n",
        "# - number of characters to generate.\n",
        "#\n",
        "# temperature\n",
        "# - Low temperatures results in more predictable text.\n",
        "# - Higher temperatures results in more surprising text.\n",
        "# - Experiment to find the best setting.\n",
        "def generate_text(model, start_string, num_generate = 1000, temperature=1.0):\n",
        "    # Evaluation step (generating text using the learned model)\n",
        "\n",
        "    # Converting our start string to numbers (vectorizing).\n",
        "    input_index = [word2index[word] for word in start_string.split()]\n",
        "    input_indices = tf.expand_dims(input_index, 0)\n",
        "\n",
        "    # Empty string to store our results.\n",
        "    index = 1\n",
        "    text_generated = []\n",
        "    text_generated.append(f'{index}. {start_string}')\n",
        "\n",
        "    # Here batch size == 1.\n",
        "    model.reset_states()\n",
        "    for char_index in range(num_generate):\n",
        "        predictions = model(input_indices)\n",
        "        # remove the batch dimension\n",
        "        predictions = tf.squeeze(predictions, 0)\n",
        "\n",
        "        # Using a categorical distribution to predict the character returned by the model.\n",
        "        predictions = predictions / temperature\n",
        "        predicted_id = tf.random.categorical(\n",
        "        predictions,\n",
        "        num_samples=1\n",
        "        )[-1,0].numpy()\n",
        "\n",
        "        # We pass the predicted character as the next input to the model\n",
        "        # along with the previous hidden state.\n",
        "        input_indices = tf.expand_dims([predicted_id], 0)\n",
        "        if \"\\n\" == index2char[predicted_id]:\n",
        "          text_generated.append(f'\\n{index}.')\n",
        "          index += 1\n",
        "        else:\n",
        "          text_generated.append(index2char[predicted_id])\n",
        "\n",
        "\n",
        "    return (' '.join(text_generated))\n",
        "\n",
        "# Generate the text with default temperature (1.0).\n",
        "print(generate_text(model, start_string=\"start by\"))"
      ]
    },
    {
      "cell_type": "code",
      "execution_count": null,
      "metadata": {
        "id": "NFx13d6E1zX3"
      },
      "outputs": [],
      "source": [
        "model_name = 'text_generation_shakespeare_rnn.h5'\n",
        "model.save(model_name, save_format='h5')\n",
        "!cp -r './text_generation_shakespeare_rnn.h5' /content/drive/MyDrive/"
      ]
    }
  ],
  "metadata": {
    "colab": {
      "provenance": [],
      "mount_file_id": "1TJfLzH4G7v_P5fnEE64hSDAZvlFM8rjM",
      "authorship_tag": "ABX9TyO1TcSE6RyyatVgwNQjVfjo",
      "include_colab_link": true
    },
    "kernelspec": {
      "display_name": "Python 3",
      "name": "python3"
    },
    "language_info": {
      "name": "python"
    }
  },
  "nbformat": 4,
  "nbformat_minor": 0
}